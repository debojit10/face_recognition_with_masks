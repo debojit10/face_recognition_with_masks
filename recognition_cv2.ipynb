{
  "nbformat": 4,
  "nbformat_minor": 0,
  "metadata": {
    "accelerator": "GPU",
    "colab": {
      "name": "recognition_cv2.ipynb",
      "provenance": [],
      "collapsed_sections": []
    },
    "kernelspec": {
      "display_name": "Python 3",
      "name": "python3"
    },
    "language_info": {
      "name": "python"
    }
  },
  "cells": [
    {
      "cell_type": "code",
      "metadata": {
        "id": "fNk9eEfkCoKn"
      },
      "source": [
        "!cp -r '/content/drive/MyDrive/fine_tuned_model' .\n",
        "!cp -r '/content/drive/MyDrive/keras-facenet' ."
      ],
      "execution_count": null,
      "outputs": []
    },
    {
      "cell_type": "code",
      "metadata": {
        "colab": {
          "base_uri": "https://localhost:8080/"
        },
        "id": "zJeWlQqqabKy",
        "outputId": "412e0615-c792-4fe5-fa70-919ace32868e"
      },
      "source": [
        "!git clone https://github.com/tensorflow/models.git"
      ],
      "execution_count": null,
      "outputs": [
        {
          "output_type": "stream",
          "text": [
            "Cloning into 'models'...\n",
            "remote: Enumerating objects: 56228, done.\u001b[K\n",
            "remote: Counting objects: 100% (268/268), done.\u001b[K\n",
            "remote: Compressing objects: 100% (165/165), done.\u001b[K\n",
            "remote: Total 56228 (delta 137), reused 211 (delta 102), pack-reused 55960\u001b[K\n",
            "Receiving objects: 100% (56228/56228), 572.24 MiB | 25.85 MiB/s, done.\n",
            "Resolving deltas: 100% (38745/38745), done.\n"
          ],
          "name": "stdout"
        }
      ]
    },
    {
      "cell_type": "code",
      "metadata": {
        "colab": {
          "base_uri": "https://localhost:8080/"
        },
        "id": "AtEiKGDSDA8q",
        "outputId": "fce6a69f-903e-4119-f91b-72759723c7ec"
      },
      "source": [
        "%%bash\n",
        "cd models/research/\n",
        "protoc object_detection/protos/*.proto --python_out=.\n",
        "cp object_detection/packages/tf2/setup.py .\n",
        "python -m pip install ."
      ],
      "execution_count": null,
      "outputs": [
        {
          "output_type": "stream",
          "text": [
            "Processing /content/models/research\n",
            "Collecting avro-python3\n",
            "  Downloading https://files.pythonhosted.org/packages/cc/97/7a6970380ca8db9139a3cc0b0e3e0dd3e4bc584fb3644e1d06e71e1a55f0/avro-python3-1.10.2.tar.gz\n",
            "Collecting apache-beam\n",
            "  Downloading https://files.pythonhosted.org/packages/e1/e7/d6e5a3786d9a037a38af966bf154bcd6cb3cbea2edffda00cf6c417cc9a2/apache_beam-2.28.0-cp37-cp37m-manylinux2010_x86_64.whl (9.0MB)\n",
            "Requirement already satisfied: pillow in /usr/local/lib/python3.7/dist-packages (from object-detection==0.1) (7.1.2)\n",
            "Requirement already satisfied: lxml in /usr/local/lib/python3.7/dist-packages (from object-detection==0.1) (4.2.6)\n",
            "Requirement already satisfied: matplotlib in /usr/local/lib/python3.7/dist-packages (from object-detection==0.1) (3.2.2)\n",
            "Requirement already satisfied: Cython in /usr/local/lib/python3.7/dist-packages (from object-detection==0.1) (0.29.22)\n",
            "Requirement already satisfied: contextlib2 in /usr/local/lib/python3.7/dist-packages (from object-detection==0.1) (0.5.5)\n",
            "Collecting tf-slim\n",
            "  Downloading https://files.pythonhosted.org/packages/02/97/b0f4a64df018ca018cc035d44f2ef08f91e2e8aa67271f6f19633a015ff7/tf_slim-1.1.0-py2.py3-none-any.whl (352kB)\n",
            "Requirement already satisfied: six in /usr/local/lib/python3.7/dist-packages (from object-detection==0.1) (1.15.0)\n",
            "Requirement already satisfied: pycocotools in /usr/local/lib/python3.7/dist-packages (from object-detection==0.1) (2.0.2)\n",
            "Collecting lvis\n",
            "  Downloading https://files.pythonhosted.org/packages/72/b6/1992240ab48310b5360bfdd1d53163f43bb97d90dc5dc723c67d41c38e78/lvis-0.5.3-py3-none-any.whl\n",
            "Requirement already satisfied: scipy in /usr/local/lib/python3.7/dist-packages (from object-detection==0.1) (1.4.1)\n",
            "Requirement already satisfied: pandas in /usr/local/lib/python3.7/dist-packages (from object-detection==0.1) (1.1.5)\n",
            "Collecting tf-models-official\n",
            "  Downloading https://files.pythonhosted.org/packages/57/4a/23a08f8fd2747867ee223612e219eeb0d11c36116601d99b55ef3c72e707/tf_models_official-2.4.0-py2.py3-none-any.whl (1.1MB)\n",
            "Requirement already satisfied: pydot<2,>=1.2.0 in /usr/local/lib/python3.7/dist-packages (from apache-beam->object-detection==0.1) (1.3.0)\n",
            "Requirement already satisfied: grpcio<2,>=1.29.0 in /usr/local/lib/python3.7/dist-packages (from apache-beam->object-detection==0.1) (1.32.0)\n",
            "Requirement already satisfied: numpy<1.20.0,>=1.14.3 in /usr/local/lib/python3.7/dist-packages (from apache-beam->object-detection==0.1) (1.19.5)\n",
            "Requirement already satisfied: pymongo<4.0.0,>=3.8.0 in /usr/local/lib/python3.7/dist-packages (from apache-beam->object-detection==0.1) (3.11.3)\n",
            "Requirement already satisfied: python-dateutil<3,>=2.8.0 in /usr/local/lib/python3.7/dist-packages (from apache-beam->object-detection==0.1) (2.8.1)\n",
            "Collecting requests<3.0.0,>=2.24.0\n",
            "  Downloading https://files.pythonhosted.org/packages/29/c1/24814557f1d22c56d50280771a17307e6bf87b70727d975fd6b2ce6b014a/requests-2.25.1-py2.py3-none-any.whl (61kB)\n",
            "Requirement already satisfied: typing-extensions<3.8.0,>=3.7.0 in /usr/local/lib/python3.7/dist-packages (from apache-beam->object-detection==0.1) (3.7.4.3)\n",
            "Requirement already satisfied: crcmod<2.0,>=1.7 in /usr/local/lib/python3.7/dist-packages (from apache-beam->object-detection==0.1) (1.7)\n",
            "Collecting mock<3.0.0,>=1.0.1\n",
            "  Downloading https://files.pythonhosted.org/packages/e6/35/f187bdf23be87092bd0f1200d43d23076cee4d0dec109f195173fd3ebc79/mock-2.0.0-py2.py3-none-any.whl (56kB)\n",
            "Requirement already satisfied: pytz>=2018.3 in /usr/local/lib/python3.7/dist-packages (from apache-beam->object-detection==0.1) (2018.9)\n",
            "Requirement already satisfied: httplib2<0.18.0,>=0.8 in /usr/local/lib/python3.7/dist-packages (from apache-beam->object-detection==0.1) (0.17.4)\n",
            "Requirement already satisfied: oauth2client<5,>=2.0.1 in /usr/local/lib/python3.7/dist-packages (from apache-beam->object-detection==0.1) (4.1.3)\n",
            "Collecting pyarrow<3.0.0,>=0.15.1\n",
            "  Downloading https://files.pythonhosted.org/packages/2e/8d/c002e27767595f22aa09ed0d364327922f673d12b36526c967a2bf6b2ed7/pyarrow-2.0.0-cp37-cp37m-manylinux2014_x86_64.whl (17.7MB)\n",
            "Requirement already satisfied: protobuf<4,>=3.12.2 in /usr/local/lib/python3.7/dist-packages (from apache-beam->object-detection==0.1) (3.12.4)\n",
            "Collecting fastavro<2,>=0.21.4\n",
            "  Downloading https://files.pythonhosted.org/packages/b6/26/cc1acc339eb1b8423c32b0a1dca524214012e577c22ce8fdd58d5213f9b4/fastavro-1.4.0-cp37-cp37m-manylinux2014_x86_64.whl (2.2MB)\n",
            "Collecting dill<0.3.2,>=0.3.1.1\n",
            "  Downloading https://files.pythonhosted.org/packages/c7/11/345f3173809cea7f1a193bfbf02403fff250a3360e0e118a1630985e547d/dill-0.3.1.1.tar.gz (151kB)\n",
            "Collecting future<1.0.0,>=0.18.2\n",
            "  Downloading https://files.pythonhosted.org/packages/45/0b/38b06fd9b92dc2b68d58b75f900e97884c45bedd2ff83203d933cf5851c9/future-0.18.2.tar.gz (829kB)\n",
            "Collecting hdfs<3.0.0,>=2.1.0\n",
            "  Downloading https://files.pythonhosted.org/packages/08/f7/4c3fad73123a24d7394b6f40d1ec9c1cbf2e921cfea1797216ffd0a51fb1/hdfs-2.6.0-py3-none-any.whl\n",
            "Requirement already satisfied: pyparsing!=2.0.4,!=2.1.2,!=2.1.6,>=2.0.1 in /usr/local/lib/python3.7/dist-packages (from matplotlib->object-detection==0.1) (2.4.7)\n",
            "Requirement already satisfied: cycler>=0.10 in /usr/local/lib/python3.7/dist-packages (from matplotlib->object-detection==0.1) (0.10.0)\n",
            "Requirement already satisfied: kiwisolver>=1.0.1 in /usr/local/lib/python3.7/dist-packages (from matplotlib->object-detection==0.1) (1.3.1)\n",
            "Requirement already satisfied: absl-py>=0.2.2 in /usr/local/lib/python3.7/dist-packages (from tf-slim->object-detection==0.1) (0.12.0)\n",
            "Requirement already satisfied: setuptools>=18.0 in /usr/local/lib/python3.7/dist-packages (from pycocotools->object-detection==0.1) (54.2.0)\n",
            "Requirement already satisfied: opencv-python>=4.1.0.25 in /usr/local/lib/python3.7/dist-packages (from lvis->object-detection==0.1) (4.1.2.30)\n",
            "Collecting dataclasses\n",
            "  Downloading https://files.pythonhosted.org/packages/26/2f/1095cdc2868052dd1e64520f7c0d5c8c550ad297e944e641dbf1ffbb9a5d/dataclasses-0.6-py3-none-any.whl\n",
            "Requirement already satisfied: google-api-python-client>=1.6.7 in /usr/local/lib/python3.7/dist-packages (from tf-models-official->object-detection==0.1) (1.12.8)\n",
            "Requirement already satisfied: google-cloud-bigquery>=0.31.0 in /usr/local/lib/python3.7/dist-packages (from tf-models-official->object-detection==0.1) (1.21.0)\n",
            "Requirement already satisfied: psutil>=5.4.3 in /usr/local/lib/python3.7/dist-packages (from tf-models-official->object-detection==0.1) (5.4.8)\n",
            "Requirement already satisfied: gin-config in /usr/local/lib/python3.7/dist-packages (from tf-models-official->object-detection==0.1) (0.4.0)\n",
            "Collecting py-cpuinfo>=3.3.0\n",
            "  Downloading https://files.pythonhosted.org/packages/e6/ba/77120e44cbe9719152415b97d5bfb29f4053ee987d6cb63f55ce7d50fadc/py-cpuinfo-8.0.0.tar.gz (99kB)\n",
            "Requirement already satisfied: tensorflow-datasets in /usr/local/lib/python3.7/dist-packages (from tf-models-official->object-detection==0.1) (4.0.1)\n",
            "Collecting tensorflow-addons\n",
            "  Downloading https://files.pythonhosted.org/packages/74/e3/56d2fe76f0bb7c88ed9b2a6a557e25e83e252aec08f13de34369cd850a0b/tensorflow_addons-0.12.1-cp37-cp37m-manylinux2010_x86_64.whl (703kB)\n",
            "Collecting opencv-python-headless\n",
            "  Downloading https://files.pythonhosted.org/packages/6d/6d/92f377bece9b0ec9c893081dbe073a65b38d7ac12ef572b8f70554d08760/opencv_python_headless-4.5.1.48-cp37-cp37m-manylinux2014_x86_64.whl (37.6MB)\n",
            "Collecting tensorflow-model-optimization>=0.4.1\n",
            "  Downloading https://files.pythonhosted.org/packages/55/38/4fd48ea1bfcb0b6e36d949025200426fe9c3a8bfae029f0973d85518fa5a/tensorflow_model_optimization-0.5.0-py2.py3-none-any.whl (172kB)\n",
            "Collecting seqeval\n",
            "  Downloading https://files.pythonhosted.org/packages/9d/2d/233c79d5b4e5ab1dbf111242299153f3caddddbb691219f363ad55ce783d/seqeval-1.2.2.tar.gz (43kB)\n",
            "Requirement already satisfied: tensorflow-hub>=0.6.0 in /usr/local/lib/python3.7/dist-packages (from tf-models-official->object-detection==0.1) (0.12.0)\n",
            "Requirement already satisfied: tensorflow>=2.4.0 in /usr/local/lib/python3.7/dist-packages (from tf-models-official->object-detection==0.1) (2.4.1)\n",
            "Collecting sentencepiece\n",
            "  Downloading https://files.pythonhosted.org/packages/f5/99/e0808cb947ba10f575839c43e8fafc9cc44e4a7a2c8f79c60db48220a577/sentencepiece-0.1.95-cp37-cp37m-manylinux2014_x86_64.whl (1.2MB)\n",
            "Collecting pyyaml>=5.1\n",
            "  Downloading https://files.pythonhosted.org/packages/7a/a5/393c087efdc78091afa2af9f1378762f9821c9c1d7a22c5753fb5ac5f97a/PyYAML-5.4.1-cp37-cp37m-manylinux1_x86_64.whl (636kB)\n",
            "Requirement already satisfied: kaggle>=1.3.9 in /usr/local/lib/python3.7/dist-packages (from tf-models-official->object-detection==0.1) (1.5.12)\n",
            "Requirement already satisfied: certifi>=2017.4.17 in /usr/local/lib/python3.7/dist-packages (from requests<3.0.0,>=2.24.0->apache-beam->object-detection==0.1) (2020.12.5)\n",
            "Requirement already satisfied: idna<3,>=2.5 in /usr/local/lib/python3.7/dist-packages (from requests<3.0.0,>=2.24.0->apache-beam->object-detection==0.1) (2.10)\n",
            "Requirement already satisfied: urllib3<1.27,>=1.21.1 in /usr/local/lib/python3.7/dist-packages (from requests<3.0.0,>=2.24.0->apache-beam->object-detection==0.1) (1.24.3)\n",
            "Requirement already satisfied: chardet<5,>=3.0.2 in /usr/local/lib/python3.7/dist-packages (from requests<3.0.0,>=2.24.0->apache-beam->object-detection==0.1) (3.0.4)\n",
            "Collecting pbr>=0.11\n",
            "  Downloading https://files.pythonhosted.org/packages/fb/48/69046506f6ac61c1eaa9a0d42d22d54673b69e176d30ca98e3f61513e980/pbr-5.5.1-py2.py3-none-any.whl (106kB)\n",
            "Requirement already satisfied: rsa>=3.1.4 in /usr/local/lib/python3.7/dist-packages (from oauth2client<5,>=2.0.1->apache-beam->object-detection==0.1) (4.7.2)\n",
            "Requirement already satisfied: pyasn1-modules>=0.0.5 in /usr/local/lib/python3.7/dist-packages (from oauth2client<5,>=2.0.1->apache-beam->object-detection==0.1) (0.2.8)\n",
            "Requirement already satisfied: pyasn1>=0.1.7 in /usr/local/lib/python3.7/dist-packages (from oauth2client<5,>=2.0.1->apache-beam->object-detection==0.1) (0.4.8)\n",
            "Requirement already satisfied: docopt in /usr/local/lib/python3.7/dist-packages (from hdfs<3.0.0,>=2.1.0->apache-beam->object-detection==0.1) (0.6.2)\n",
            "Requirement already satisfied: uritemplate<4dev,>=3.0.0 in /usr/local/lib/python3.7/dist-packages (from google-api-python-client>=1.6.7->tf-models-official->object-detection==0.1) (3.0.1)\n",
            "Requirement already satisfied: google-api-core<2dev,>=1.21.0 in /usr/local/lib/python3.7/dist-packages (from google-api-python-client>=1.6.7->tf-models-official->object-detection==0.1) (1.26.3)\n",
            "Requirement already satisfied: google-auth>=1.16.0 in /usr/local/lib/python3.7/dist-packages (from google-api-python-client>=1.6.7->tf-models-official->object-detection==0.1) (1.28.1)\n",
            "Requirement already satisfied: google-auth-httplib2>=0.0.3 in /usr/local/lib/python3.7/dist-packages (from google-api-python-client>=1.6.7->tf-models-official->object-detection==0.1) (0.0.4)\n",
            "Requirement already satisfied: google-cloud-core<2.0dev,>=1.0.3 in /usr/local/lib/python3.7/dist-packages (from google-cloud-bigquery>=0.31.0->tf-models-official->object-detection==0.1) (1.0.3)\n",
            "Requirement already satisfied: google-resumable-media!=0.4.0,<0.5.0dev,>=0.3.1 in /usr/local/lib/python3.7/dist-packages (from google-cloud-bigquery>=0.31.0->tf-models-official->object-detection==0.1) (0.4.1)\n",
            "Requirement already satisfied: dm-tree in /usr/local/lib/python3.7/dist-packages (from tensorflow-datasets->tf-models-official->object-detection==0.1) (0.1.6)\n",
            "Requirement already satisfied: importlib-resources; python_version < \"3.9\" in /usr/local/lib/python3.7/dist-packages (from tensorflow-datasets->tf-models-official->object-detection==0.1) (5.1.2)\n",
            "Requirement already satisfied: attrs>=18.1.0 in /usr/local/lib/python3.7/dist-packages (from tensorflow-datasets->tf-models-official->object-detection==0.1) (20.3.0)\n",
            "Requirement already satisfied: termcolor in /usr/local/lib/python3.7/dist-packages (from tensorflow-datasets->tf-models-official->object-detection==0.1) (1.1.0)\n",
            "Requirement already satisfied: tqdm in /usr/local/lib/python3.7/dist-packages (from tensorflow-datasets->tf-models-official->object-detection==0.1) (4.41.1)\n",
            "Requirement already satisfied: tensorflow-metadata in /usr/local/lib/python3.7/dist-packages (from tensorflow-datasets->tf-models-official->object-detection==0.1) (0.29.0)\n",
            "Requirement already satisfied: promise in /usr/local/lib/python3.7/dist-packages (from tensorflow-datasets->tf-models-official->object-detection==0.1) (2.3)\n",
            "Requirement already satisfied: typeguard>=2.7 in /usr/local/lib/python3.7/dist-packages (from tensorflow-addons->tf-models-official->object-detection==0.1) (2.7.1)\n",
            "Requirement already satisfied: scikit-learn>=0.21.3 in /usr/local/lib/python3.7/dist-packages (from seqeval->tf-models-official->object-detection==0.1) (0.22.2.post1)\n",
            "Requirement already satisfied: flatbuffers~=1.12.0 in /usr/local/lib/python3.7/dist-packages (from tensorflow>=2.4.0->tf-models-official->object-detection==0.1) (1.12)\n",
            "Requirement already satisfied: tensorboard~=2.4 in /usr/local/lib/python3.7/dist-packages (from tensorflow>=2.4.0->tf-models-official->object-detection==0.1) (2.4.1)\n",
            "Requirement already satisfied: wheel~=0.35 in /usr/local/lib/python3.7/dist-packages (from tensorflow>=2.4.0->tf-models-official->object-detection==0.1) (0.36.2)\n",
            "Requirement already satisfied: wrapt~=1.12.1 in /usr/local/lib/python3.7/dist-packages (from tensorflow>=2.4.0->tf-models-official->object-detection==0.1) (1.12.1)\n",
            "Requirement already satisfied: tensorflow-estimator<2.5.0,>=2.4.0 in /usr/local/lib/python3.7/dist-packages (from tensorflow>=2.4.0->tf-models-official->object-detection==0.1) (2.4.0)\n",
            "Requirement already satisfied: h5py~=2.10.0 in /usr/local/lib/python3.7/dist-packages (from tensorflow>=2.4.0->tf-models-official->object-detection==0.1) (2.10.0)\n",
            "Requirement already satisfied: opt-einsum~=3.3.0 in /usr/local/lib/python3.7/dist-packages (from tensorflow>=2.4.0->tf-models-official->object-detection==0.1) (3.3.0)\n",
            "Requirement already satisfied: google-pasta~=0.2 in /usr/local/lib/python3.7/dist-packages (from tensorflow>=2.4.0->tf-models-official->object-detection==0.1) (0.2.0)\n",
            "Requirement already satisfied: astunparse~=1.6.3 in /usr/local/lib/python3.7/dist-packages (from tensorflow>=2.4.0->tf-models-official->object-detection==0.1) (1.6.3)\n",
            "Requirement already satisfied: gast==0.3.3 in /usr/local/lib/python3.7/dist-packages (from tensorflow>=2.4.0->tf-models-official->object-detection==0.1) (0.3.3)\n",
            "Requirement already satisfied: keras-preprocessing~=1.1.2 in /usr/local/lib/python3.7/dist-packages (from tensorflow>=2.4.0->tf-models-official->object-detection==0.1) (1.1.2)\n",
            "Requirement already satisfied: python-slugify in /usr/local/lib/python3.7/dist-packages (from kaggle>=1.3.9->tf-models-official->object-detection==0.1) (4.0.1)\n",
            "Requirement already satisfied: packaging>=14.3 in /usr/local/lib/python3.7/dist-packages (from google-api-core<2dev,>=1.21.0->google-api-python-client>=1.6.7->tf-models-official->object-detection==0.1) (20.9)\n",
            "Requirement already satisfied: googleapis-common-protos<2.0dev,>=1.6.0 in /usr/local/lib/python3.7/dist-packages (from google-api-core<2dev,>=1.21.0->google-api-python-client>=1.6.7->tf-models-official->object-detection==0.1) (1.53.0)\n",
            "Requirement already satisfied: cachetools<5.0,>=2.0.0 in /usr/local/lib/python3.7/dist-packages (from google-auth>=1.16.0->google-api-python-client>=1.6.7->tf-models-official->object-detection==0.1) (4.2.1)\n",
            "Requirement already satisfied: zipp>=0.4; python_version < \"3.8\" in /usr/local/lib/python3.7/dist-packages (from importlib-resources; python_version < \"3.9\"->tensorflow-datasets->tf-models-official->object-detection==0.1) (3.4.1)\n",
            "Requirement already satisfied: joblib>=0.11 in /usr/local/lib/python3.7/dist-packages (from scikit-learn>=0.21.3->seqeval->tf-models-official->object-detection==0.1) (1.0.1)\n",
            "Requirement already satisfied: werkzeug>=0.11.15 in /usr/local/lib/python3.7/dist-packages (from tensorboard~=2.4->tensorflow>=2.4.0->tf-models-official->object-detection==0.1) (1.0.1)\n",
            "Requirement already satisfied: google-auth-oauthlib<0.5,>=0.4.1 in /usr/local/lib/python3.7/dist-packages (from tensorboard~=2.4->tensorflow>=2.4.0->tf-models-official->object-detection==0.1) (0.4.4)\n",
            "Requirement already satisfied: markdown>=2.6.8 in /usr/local/lib/python3.7/dist-packages (from tensorboard~=2.4->tensorflow>=2.4.0->tf-models-official->object-detection==0.1) (3.3.4)\n",
            "Requirement already satisfied: tensorboard-plugin-wit>=1.6.0 in /usr/local/lib/python3.7/dist-packages (from tensorboard~=2.4->tensorflow>=2.4.0->tf-models-official->object-detection==0.1) (1.8.0)\n",
            "Requirement already satisfied: text-unidecode>=1.3 in /usr/local/lib/python3.7/dist-packages (from python-slugify->kaggle>=1.3.9->tf-models-official->object-detection==0.1) (1.3)\n",
            "Requirement already satisfied: requests-oauthlib>=0.7.0 in /usr/local/lib/python3.7/dist-packages (from google-auth-oauthlib<0.5,>=0.4.1->tensorboard~=2.4->tensorflow>=2.4.0->tf-models-official->object-detection==0.1) (1.3.0)\n",
            "Requirement already satisfied: importlib-metadata; python_version < \"3.8\" in /usr/local/lib/python3.7/dist-packages (from markdown>=2.6.8->tensorboard~=2.4->tensorflow>=2.4.0->tf-models-official->object-detection==0.1) (3.10.1)\n",
            "Requirement already satisfied: oauthlib>=3.0.0 in /usr/local/lib/python3.7/dist-packages (from requests-oauthlib>=0.7.0->google-auth-oauthlib<0.5,>=0.4.1->tensorboard~=2.4->tensorflow>=2.4.0->tf-models-official->object-detection==0.1) (3.1.0)\n",
            "Building wheels for collected packages: object-detection, avro-python3, dill, future, py-cpuinfo, seqeval\n",
            "  Building wheel for object-detection (setup.py): started\n",
            "  Building wheel for object-detection (setup.py): finished with status 'done'\n",
            "  Created wheel for object-detection: filename=object_detection-0.1-cp37-none-any.whl size=1643829 sha256=ac9d8556b71b9ee6faf75731ea4a1e09b0743a4a75704192eeccca6484e1b7f9\n",
            "  Stored in directory: /tmp/pip-ephem-wheel-cache-96lgqvv2/wheels/94/49/4b/39b051683087a22ef7e80ec52152a27249d1a644ccf4e442ea\n",
            "  Building wheel for avro-python3 (setup.py): started\n",
            "  Building wheel for avro-python3 (setup.py): finished with status 'done'\n",
            "  Created wheel for avro-python3: filename=avro_python3-1.10.2-cp37-none-any.whl size=44011 sha256=63ef64e9c74013662624c356d4748adda49ce7a8d7286cfbe36cecc509759e76\n",
            "  Stored in directory: /root/.cache/pip/wheels/ee/ee/18/c466221ca6900e3efce2f4ea9c329288808679aecdcb2838d3\n",
            "  Building wheel for dill (setup.py): started\n",
            "  Building wheel for dill (setup.py): finished with status 'done'\n",
            "  Created wheel for dill: filename=dill-0.3.1.1-cp37-none-any.whl size=78532 sha256=fe51bfc57e56fc4c5b67df3e85159d7f7ecb9103fe52f04cd4e8c85bb004dfdd\n",
            "  Stored in directory: /root/.cache/pip/wheels/59/b1/91/f02e76c732915c4015ab4010f3015469866c1eb9b14058d8e7\n",
            "  Building wheel for future (setup.py): started\n",
            "  Building wheel for future (setup.py): finished with status 'done'\n",
            "  Created wheel for future: filename=future-0.18.2-cp37-none-any.whl size=491058 sha256=8d705f4f5ef4122606f2ed361231ae2294f0508d4a50a7315c85b46d5d918825\n",
            "  Stored in directory: /root/.cache/pip/wheels/8b/99/a0/81daf51dcd359a9377b110a8a886b3895921802d2fc1b2397e\n",
            "  Building wheel for py-cpuinfo (setup.py): started\n",
            "  Building wheel for py-cpuinfo (setup.py): finished with status 'done'\n",
            "  Created wheel for py-cpuinfo: filename=py_cpuinfo-8.0.0-cp37-none-any.whl size=22245 sha256=2eb21c841119c405daf54f585c68e24d886f51f524586a0283fb0a9123743d23\n",
            "  Stored in directory: /root/.cache/pip/wheels/2e/15/f5/aa2a056d223903b52cf4870134e3a01df0c723816835dd08db\n",
            "  Building wheel for seqeval (setup.py): started\n",
            "  Building wheel for seqeval (setup.py): finished with status 'done'\n",
            "  Created wheel for seqeval: filename=seqeval-1.2.2-cp37-none-any.whl size=16172 sha256=1772fd74a4c22e607d11e6800c4460291998e4b99d760a7eede23da8c422bfb9\n",
            "  Stored in directory: /root/.cache/pip/wheels/52/df/1b/45d75646c37428f7e626214704a0e35bd3cfc32eda37e59e5f\n",
            "Successfully built object-detection avro-python3 dill future py-cpuinfo seqeval\n",
            "Installing collected packages: avro-python3, requests, pbr, mock, pyarrow, fastavro, dill, future, hdfs, apache-beam, tf-slim, lvis, dataclasses, py-cpuinfo, tensorflow-addons, opencv-python-headless, tensorflow-model-optimization, seqeval, sentencepiece, pyyaml, tf-models-official, object-detection\n",
            "  Found existing installation: requests 2.23.0\n",
            "    Uninstalling requests-2.23.0:\n",
            "      Successfully uninstalled requests-2.23.0\n",
            "  Found existing installation: pyarrow 3.0.0\n",
            "    Uninstalling pyarrow-3.0.0:\n",
            "      Successfully uninstalled pyarrow-3.0.0\n",
            "  Found existing installation: dill 0.3.3\n",
            "    Uninstalling dill-0.3.3:\n",
            "      Successfully uninstalled dill-0.3.3\n",
            "  Found existing installation: future 0.16.0\n",
            "    Uninstalling future-0.16.0:\n",
            "      Successfully uninstalled future-0.16.0\n",
            "  Found existing installation: PyYAML 3.13\n",
            "    Uninstalling PyYAML-3.13:\n",
            "      Successfully uninstalled PyYAML-3.13\n",
            "Successfully installed apache-beam-2.28.0 avro-python3-1.10.2 dataclasses-0.6 dill-0.3.1.1 fastavro-1.4.0 future-0.18.2 hdfs-2.6.0 lvis-0.5.3 mock-2.0.0 object-detection-0.1 opencv-python-headless-4.5.1.48 pbr-5.5.1 py-cpuinfo-8.0.0 pyarrow-2.0.0 pyyaml-5.4.1 requests-2.25.1 sentencepiece-0.1.95 seqeval-1.2.2 tensorflow-addons-0.12.1 tensorflow-model-optimization-0.5.0 tf-models-official-2.4.0 tf-slim-1.1.0\n"
          ],
          "name": "stdout"
        },
        {
          "output_type": "stream",
          "text": [
            "ERROR: multiprocess 0.70.11.1 has requirement dill>=0.3.3, but you'll have dill 0.3.1.1 which is incompatible.\n",
            "ERROR: google-colab 1.0.0 has requirement requests~=2.23.0, but you'll have requests 2.25.1 which is incompatible.\n",
            "ERROR: datascience 0.10.6 has requirement folium==0.2.1, but you'll have folium 0.8.3 which is incompatible.\n",
            "ERROR: apache-beam 2.28.0 has requirement avro-python3!=1.9.2,<1.10.0,>=1.8.1, but you'll have avro-python3 1.10.2 which is incompatible.\n"
          ],
          "name": "stderr"
        }
      ]
    },
    {
      "cell_type": "code",
      "metadata": {
        "id": "MKUY8R08b27h"
      },
      "source": [
        "import shutil\n",
        "shutil.rmtree('/content/archive')"
      ],
      "execution_count": null,
      "outputs": []
    },
    {
      "cell_type": "code",
      "metadata": {
        "colab": {
          "base_uri": "https://localhost:8080/"
        },
        "id": "AG4n9R2oD3gv",
        "outputId": "7f1165cd-3569-4ba4-f7cb-c954d60504e1"
      },
      "source": [
        "#Import the required libraries for Object detection infernece\n",
        "import time\n",
        "import tensorflow as tf\n",
        "from object_detection.utils import label_map_util\n",
        "from object_detection.utils import visualization_utils as viz_utils\n",
        "import os\n",
        "import cv2\n",
        "import matplotlib.pyplot as plt\n",
        "import numpy as np\n",
        "import six.moves.urllib as urllib\n",
        "import sys\n",
        "import tarfile\n",
        "import zipfile\n",
        "import random\n",
        "from collections import defaultdict\n",
        "from PIL import Image, ImageDraw\n",
        "from google.colab.patches import cv2_imshow\n",
        "from keras.models import load_model\n",
        "\n",
        "\n",
        "%matplotlib inline\n",
        "# setting min confidence threshold\n",
        "MIN_CONF_THRESH=.5\n",
        "#Loading the exported model from saved_model directory\n",
        "PATH_TO_SAVED_MODEL ='/content/fine_tuned_model2/saved_model'\n",
        "print('Loading model...', end='')\n",
        "start_time = time.time()\n",
        "# LOAD SAVED MODEL AND BUILD DETECTION FUNCTION\n",
        "detect_fn = tf.saved_model.load(PATH_TO_SAVED_MODEL)\n",
        "end_time = time.time()\n",
        "elapsed_time = end_time - start_time\n",
        "print('Done! Took {} seconds'.format(elapsed_time))\n",
        "# LOAD LABEL MAP DATA\n",
        "PATH_TO_LABELS='/content/label_map.pbtxt'\n",
        "category_index = label_map_util.create_category_index_from_labelmap(PATH_TO_LABELS, use_display_name=True)"
      ],
      "execution_count": null,
      "outputs": [
        {
          "output_type": "stream",
          "text": [
            "Loading model...Done! Took 20.47050404548645 seconds\n"
          ],
          "name": "stdout"
        }
      ]
    },
    {
      "cell_type": "code",
      "metadata": {
        "id": "TjQC_e4uEoO6"
      },
      "source": [
        "def load_image_into_numpy_array(path):\n",
        "    \"\"\"Load an image from file into a numpy array.\n",
        "    Puts image into numpy array of shape (height, width, channels), where channels=3 for RGB to feed into tensorflow graph.\n",
        "    Args:\n",
        "      path: the file path to the image\n",
        "    Returns:\n",
        "      uint8 numpy array with shape (img_height, img_width, 3)\n",
        "    \"\"\"\n",
        "    return np.array(cv2.cvtColor(cv2.imread(path), cv2.COLOR_BGR2RGB))"
      ],
      "execution_count": null,
      "outputs": []
    },
    {
      "cell_type": "markdown",
      "metadata": {
        "id": "yyigoW6Z23wg"
      },
      "source": [
        "**RECOGNITION**"
      ]
    },
    {
      "cell_type": "code",
      "metadata": {
        "id": "nh7DmrlHn4Od"
      },
      "source": [
        "def extract_face(filename, required_size=(160, 160)):\n",
        "  image = Image.open(filename)\n",
        "  image = image.convert('RGB')\n",
        "  (im_width, im_height) = image.size\n",
        "  image_np = load_image_into_numpy_array(filename)\n",
        "  input_tensor = tf.convert_to_tensor(image_np)\n",
        "  input_tensor = input_tensor[tf.newaxis, ...]\n",
        "  detections = detect_fn(input_tensor)\n",
        "  ymin, xmin, ymax, xmax = detections['detection_boxes'][0][0]\n",
        "  x1, x2, y1, y2 = (xmin * im_width, xmax * im_width, ymin * im_height, ymax * im_height)\n",
        "  pixels = np.asarray(image)\n",
        "  x1, y1 ,x2, y2= x1.numpy().astype(int), y1.numpy().astype(int), x2.numpy().astype(int), y2.numpy().astype(int)\n",
        "  # print(y1, y2, x1, x2)\n",
        "  face = pixels[y1:y2, x1:x2]\n",
        "  image = Image.fromarray(face)\n",
        "  image = image.resize(required_size)\n",
        "  face_array = np.asarray(image)\n",
        "  return(face_array)"
      ],
      "execution_count": null,
      "outputs": []
    },
    {
      "cell_type": "code",
      "metadata": {
        "colab": {
          "base_uri": "https://localhost:8080/"
        },
        "id": "wJEsSM2QNJzU",
        "outputId": "839458c1-862a-4479-d672-3ab41ae8686d"
      },
      "source": [
        "!unzip /content/archive.zip"
      ],
      "execution_count": null,
      "outputs": [
        {
          "output_type": "stream",
          "text": [
            "Archive:  /content/archive.zip\n",
            "   creating: archive/\n",
            "   creating: archive/data/\n",
            "   creating: archive/data/train/\n",
            "   creating: archive/data/train/ben_afflek/\n",
            "  inflating: archive/data/train/ben_afflek/httpcsvkmeuaeccjpg.jpg  \n",
            "  inflating: archive/data/train/ben_afflek/httpimagesfandangocomrImageRendererredesignstaticimgnoxportraitjpgpcpcpcimagesmasterrepositoryperformerimagespjpg.jpg  \n",
            "  inflating: archive/data/train/ben_afflek/httpssmediacacheakpinimgcomxdbbdbbbececacdecdcdfjpg.jpg  \n",
            "  inflating: archive/data/train/ben_afflek/httpssmediacacheakpinimgcomxdfdfadcfeabjpg.jpg  \n",
            "  inflating: archive/data/train/ben_afflek/httpssmediacacheakpinimgcomxedaedabcbefbcbabbjpg.jpg  \n",
            "  inflating: archive/data/train/ben_afflek/httpssmediacacheakpinimgcomxeebdfdbaaajpg.jpg  \n",
            "  inflating: archive/data/train/ben_afflek/httpssmediacacheakpinimgcomxeeedcacddeccccacfjpg.jpg  \n",
            "  inflating: archive/data/train/ben_afflek/httpsuploadwikimediaorgwikipediacommonsthumbddBenAffleckbyGageSkidmorejpgpxBenAffleckbyGageSkidmorejpg.jpg  \n",
            "  inflating: archive/data/train/ben_afflek/httptrwebimgacstanetcxbdddmediasnmediajpg.jpg  \n",
            "  inflating: archive/data/train/ben_afflek/httpwwwaceshowbizcomimagesphotobenaffleckjpg.jpg  \n",
            "  inflating: archive/data/train/ben_afflek/httpwwwallposterscomimagesPostersPFjpg.jpg  \n",
            "  inflating: archive/data/train/ben_afflek/httpwwwfilmscoopitcgibinattoriBENAFFLECKBENAFFLECKjpg.jpg  \n",
            "  inflating: archive/data/train/ben_afflek/httpwwwhillsindcomstorebenjpg.jpg  \n",
            " extracting: archive/data/train/ben_afflek/httpwwwrumenewscomwpcontentuploadsbenafflekxpng.jpg  \n",
            "   creating: archive/data/train/elton_john/\n",
            "  inflating: archive/data/train/elton_john/httpftqncomymusicLxZeltonjohnjpg.jpg  \n",
            "  inflating: archive/data/train/elton_john/httpiamediaimdbcomimagesMMVBMTAxNDUMzUwOTdeQTJeQWpwZBbWUMDUOTAyNTIVUXCRALjpg.jpg  \n",
            "  inflating: archive/data/train/elton_john/httpimagesmtvcomurimgidfiledocrootvhcomsitewideflipbooksimgdailyjpgenlargefalsemattetruematteColorblackquality.jpg  \n",
            "  inflating: archive/data/train/elton_john/httpimggalpmdstaticnetfithttpAFFwwwEgalaEfrFvarFgalFstorageFimagesFmediaFmultiuploaddufevrierFeltonjohnFfreFRFeltonjohnEjpgxqualityeltonjohnjpg.jpg  \n",
            "  inflating: archive/data/train/elton_john/httpmediacacheecpinimgcomxffeffbcefjpg.jpg  \n",
            "  inflating: archive/data/train/elton_john/httpmediapopsugarassetscomfilescbffewltonjpg.jpg  \n",
            "  inflating: archive/data/train/elton_john/httpsdfrpwlycscloudfrontnetdeltonjohnjpg.jpg  \n",
            "  inflating: archive/data/train/elton_john/httpspmctvlinefileswordpresscomeltonjohnjpg.jpg  \n",
            "  inflating: archive/data/train/elton_john/httpssmediacacheakpinimgcomxfcfcbaeaeddabbjpg.jpg  \n",
            "  inflating: archive/data/train/elton_john/httpssmediacacheakpinimgcomxfecfecaefaadfebejpg.jpg  \n",
            "  inflating: archive/data/train/elton_john/httpssmediacacheakpinimgcomxfefdacfbfdeadajpg.jpg  \n",
            "  inflating: archive/data/train/elton_john/httpsticketmnettmenusdamabbacdaebeafdbbCUSTOMjpg.jpg  \n",
            "  inflating: archive/data/train/elton_john/httpsuploadwikimediaorgwikipediacommonsthumbEltonJohninsjpgpxEltonJohninsjpg.jpg  \n",
            "  inflating: archive/data/train/elton_john/httpwwwdeadlinecomvimgnetwpcontentuploadseltonjpg.jpg  \n",
            "  inflating: archive/data/train/elton_john/httpwwweonlinecomresizewwweonlinecomeolimagesEntireSitersxEltonJohnJRjpg.jpg  \n",
            "  inflating: archive/data/train/elton_john/httpwwwjohnpauljonesarenacomeventimagesEltonCalendarVjpg.jpg  \n",
            "  inflating: archive/data/train/elton_john/httpwwwlautdeEltonJohneltonjohnjpg.jpg  \n",
            "   creating: archive/data/train/jerry_seinfeld/\n",
            "  inflating: archive/data/train/jerry_seinfeld/httpgraphicsnytimescomimagessectionmoviesfilmographyWireImagejpg.jpg  \n",
            "  inflating: archive/data/train/jerry_seinfeld/httpikinjaimgcomgawkermediaimageuploadsWmIuhdsrcedidjpgjpg.jpg  \n",
            "  inflating: archive/data/train/jerry_seinfeld/httpimagescontactmusiccomnewsimagesjerryseinfeldjpg.jpg  \n",
            "  inflating: archive/data/train/jerry_seinfeld/httpimagesrottentomatoescomimagesspotlightsnewsjerryseinfeldjpg.jpg  \n",
            "  inflating: archive/data/train/jerry_seinfeld/httpimgthedrumcomsfspublicnewstmpjerryseinfeldjpg.jpg  \n",
            "  inflating: archive/data/train/jerry_seinfeld/httpimgtimeincnetpeopleinewsjerryseinfeldjpg.jpg  \n",
            "  inflating: archive/data/train/jerry_seinfeld/httpmediapopsugarassetscomfilesusersxlargejpg.jpg  \n",
            "  inflating: archive/data/train/jerry_seinfeld/httppfodcompchannelslegacyprofilejerryseinfeldpodcastjpg.jpg  \n",
            "  inflating: archive/data/train/jerry_seinfeld/httpsmedialivenationcomartiststapjpg.jpg  \n",
            "  inflating: archive/data/train/jerry_seinfeld/httpsrobertaccetturacomwpcontentuploadsjerryseinfeldheadshotjpg.jpg  \n",
            "  inflating: archive/data/train/jerry_seinfeld/httpstatictherichestimagescomcdncwpcontentuploadsJerrySeinfeldjpg.jpg  \n",
            "  inflating: archive/data/train/jerry_seinfeld/httpsticketmnettmenusdbimagesajpg.jpg  \n",
            "  inflating: archive/data/train/jerry_seinfeld/httpsuploadwikimediaorgwikipediacommonsthumbbJerrySeinfeldjpgpxJerrySeinfeldjpg.jpg  \n",
            "  inflating: archive/data/train/jerry_seinfeld/httpsuswestamazonawscomblogsprodmediausuploadsJerrySeinfeldkidsxjpg.jpg  \n",
            "  inflating: archive/data/train/jerry_seinfeld/httpswwwticketscomuploadsartistsjerryseinfeldbilletsjpg.jpg  \n",
            "  inflating: archive/data/train/jerry_seinfeld/httpwwweonlinecomresizewwweonlinecomeolimagesEntireSitersxjerryseinfeldjulialouisdreyfusjwjpg.jpg  \n",
            "  inflating: archive/data/train/jerry_seinfeld/httpwwwnndbcompeoplejerryseinfeldaujpg.jpg  \n",
            "  inflating: archive/data/train/jerry_seinfeld/httpwwwpictureszimbiocomgpJerrySeinfeldJessicaSeinfeldmarriedBczSipMdNMQljpg.jpg  \n",
            "  inflating: archive/data/train/jerry_seinfeld/httpwwwpsychiatrictimescomsitesdefaultfilesimagesmediaPTMofficSeinfeldjpg.jpg  \n",
            "  inflating: archive/data/train/jerry_seinfeld/httpwwwslatecomcontentdamslateblogsbrowbeatseinfeldjpgCROParticlemediumjpg.jpg  \n",
            "  inflating: archive/data/train/jerry_seinfeld/httpwwwwatchidcomsitesdefaultfilesuploadsightingBreitlingwatchJerrySeinfeldjpg.jpg  \n",
            "   creating: archive/data/train/madonna/\n",
            "  inflating: archive/data/train/madonna/httpiamediaimdbcomimagesMMVBMTANDQNTAxNDVeQTJeQWpwZBbWUMDIMjQOTYVUXCRALjpg.jpg  \n",
            "  inflating: archive/data/train/madonna/httpimagegaladevcmseamadonnaprivatdetektivsquaretopsquarejpgv.jpg  \n",
            "  inflating: archive/data/train/madonna/httpimgclosermagfrvarclosermagstorageimagesactupeoplebiodestarsmadonnamadonnafreFRmadonnaexactxljpg.jpg  \n",
            "  inflating: archive/data/train/madonna/httpmediavoguecomrwblondesdarkbrowsmadonnajpg.jpg  \n",
            "  inflating: archive/data/train/madonna/httpresizeparismatchladmediafrrffffffcentermiddleimgvarnewsstorageimagesparismatchpeopleazmadonnafreFRMadonnajpg.jpg  \n",
            "  inflating: archive/data/train/madonna/httpssmediacacheakpinimgcomxaaeaaeecccaedfebdbjpg.jpg  \n",
            "  inflating: archive/data/train/madonna/httpssmediacacheakpinimgcomxafafedebcbjpg.jpg  \n",
            "  inflating: archive/data/train/madonna/httpssmediacacheakpinimgcomxdcfdcfedfaedadjpg.jpg  \n",
            "  inflating: archive/data/train/madonna/httpssmediacacheakpinimgcomxfeebfdccajpg.jpg  \n",
            "  inflating: archive/data/train/madonna/httpssmediacacheakpinimgcomxffabffabbbcfbceaedjpg.jpg  \n",
            "  inflating: archive/data/train/madonna/httpssmediacacheakpinimgcomxffeabacaaejpg.jpg  \n",
            "  inflating: archive/data/train/madonna/httpssmediacacheakpinimgcomxffecfafddjpg.jpg  \n",
            "  inflating: archive/data/train/madonna/httpssvagalumecommadonnaimagesmadonnajpg.jpg  \n",
            "  inflating: archive/data/train/madonna/httpsuploadwikimediaorgwikipediacommonsMadonnathAnnualGoldenGlobesAwardscroppedjpg.jpg  \n",
            "  inflating: archive/data/train/madonna/httpsuploadwikimediaorgwikipediacommonsthumbaaMadonnaatthepremiereofIAmBecauseWeArejpgpxMadonnaatthepremiereofIAmBecauseWeArejpg.jpg  \n",
            "  inflating: archive/data/train/madonna/httpuploadwikimediaorgwikipediacommonsthumbaMadonnaRotterdamjpgpxMadonnaRotterdamjpg.jpg  \n",
            "  inflating: archive/data/train/madonna/httpwwwbeastiemaniacomwhoismadonnamadonnajpg.jpg  \n",
            "  inflating: archive/data/train/madonna/httpwwwblackdogfilmscomwordpresswpcontentuploadsmadonnacelebrationxjpg.jpg  \n",
            "  inflating: archive/data/train/madonna/httpwwwetonlinecomphotomadonnabdayjpg.jpg  \n",
            "   creating: archive/data/train/mindy_kaling/\n",
            "  inflating: archive/data/train/mindy_kaling/httpgonetworthcomwpcontentuploadsthumbsjpg.jpg  \n",
            "  inflating: archive/data/train/mindy_kaling/httpgraphicsnytimescomimagesmagazinekalingkalingarticleInlinejpg.jpg  \n",
            "  inflating: archive/data/train/mindy_kaling/httpimagesnymagcomimagesdailymindykalingxjpg.jpg  \n",
            "  inflating: archive/data/train/mindy_kaling/httpmediaonsugarcomfilesbabaaaaaMindyInterviewxxxlargejpg.jpg  \n",
            "  inflating: archive/data/train/mindy_kaling/httppixelnymagcomimgsfashiondailymindykalingwhjpg.jpg  \n",
            "  inflating: archive/data/train/mindy_kaling/httpsamazonawscomkidzworldphotoimagesbccdddaaadgallerymindykalinggalleryjpg.jpg  \n",
            "  inflating: archive/data/train/mindy_kaling/httpsimagesnasslimagesamazoncomimagesIAQdwKvFILUXjpg.jpg  \n",
            "  inflating: archive/data/train/mindy_kaling/httpsimgbuzzfeedcombuzzfeedstaticstaticcampaignimageswebdradorableetsyitemsallmindykalingfansneedbigjpg.jpg  \n",
            "  inflating: archive/data/train/mindy_kaling/httpssmediacacheakpinimgcomxafaffbbbbdbcbdddjpg.jpg  \n",
            "  inflating: archive/data/train/mindy_kaling/httpssmediacacheakpinimgcomxbabafeacbaaacabffjpg.jpg  \n",
            "  inflating: archive/data/train/mindy_kaling/httpssmediacacheakpinimgcomxbbfcbdedfbfdbjpg.jpg  \n",
            "  inflating: archive/data/train/mindy_kaling/httpssmediacacheakpinimgcomxcccccddbbfedabjpg.jpg  \n",
            "  inflating: archive/data/train/mindy_kaling/httpssmediacacheakpinimgcomxccccdabeaadjpg.jpg  \n",
            "  inflating: archive/data/train/mindy_kaling/httpssmediacacheakpinimgcomxededbebccdajpg.jpg  \n",
            "  inflating: archive/data/train/mindy_kaling/httpssmediacacheakpinimgcomxeedccadejpg.jpg  \n",
            "  inflating: archive/data/train/mindy_kaling/httpsuploadwikimediaorgwikipediacommonsthumbMindyBKalingBPaleyFestBNewBYorkBBMindyBIqZgUWvbljpgpxMindyBKalingBPaleyFestBNewBYorkBBMindyBIqZgUWvbljpg.jpg  \n",
            "  inflating: archive/data/train/mindy_kaling/httpwwwadweekcomfilesimagecachenodeinlinemindykalingprofilehedjpg.jpg  \n",
            "  inflating: archive/data/train/mindy_kaling/httpwwwbooksforbetterlivingcomwpcontentuploadsMindyKalingAuthorPhotojpg.jpg  \n",
            "  inflating: archive/data/train/mindy_kaling/httpwwweonlinecomeolimagesEntireSiteregKalingCancermhjpg.jpg  \n",
            "  inflating: archive/data/train/mindy_kaling/httpwwwimpropercomimagesuploadsusercontentimagesSoroffMindyjpg.jpg  \n",
            "  inflating: archive/data/train/mindy_kaling/httpwwwpictureszimbiocomfpMindyKalingfBgaONVFDFmjpg.jpg  \n",
            "  inflating: archive/data/train/mindy_kaling/httpwwwpictureszimbiocomgiMindyKalingLkvEhTwDeJmjpg.jpg  \n",
            "   creating: archive/data/train_masked/\n",
            "   creating: archive/data/train_masked/ben_afflek/\n",
            "  inflating: archive/data/train_masked/ben_afflek/httpcsvkmeuaeccjpg.jpg  \n",
            "  inflating: archive/data/train_masked/ben_afflek/httpcsvkmeuaeccjpg_cloth.jpg  \n",
            "  inflating: archive/data/train_masked/ben_afflek/httpimagesfandangocomrImageRendererredesignstaticimgnoxportraitjpgpcpcpcimagesmasterrepositoryperformerimagespjpg.jpg  \n",
            "  inflating: archive/data/train_masked/ben_afflek/httpimagesfandangocomrImageRendererredesignstaticimgnoxportraitjpgpcpcpcimagesmasterrepositoryperformerimagespjpg_cloth.jpg  \n",
            "  inflating: archive/data/train_masked/ben_afflek/httpssmediacacheakpinimgcomxdbbdbbbececacdecdcdfjpg.jpg  \n",
            "  inflating: archive/data/train_masked/ben_afflek/httpssmediacacheakpinimgcomxdbbdbbbececacdecdcdfjpg_cloth.jpg  \n",
            "  inflating: archive/data/train_masked/ben_afflek/httpssmediacacheakpinimgcomxdfdfadcfeabjpg.jpg  \n",
            "  inflating: archive/data/train_masked/ben_afflek/httpssmediacacheakpinimgcomxdfdfadcfeabjpg_cloth.jpg  \n",
            "  inflating: archive/data/train_masked/ben_afflek/httpssmediacacheakpinimgcomxedaedabcbefbcbabbjpg.jpg  \n",
            "  inflating: archive/data/train_masked/ben_afflek/httpssmediacacheakpinimgcomxedaedabcbefbcbabbjpg_cloth.jpg  \n",
            "  inflating: archive/data/train_masked/ben_afflek/httpssmediacacheakpinimgcomxeebdfdbaaajpg.jpg  \n",
            "  inflating: archive/data/train_masked/ben_afflek/httpssmediacacheakpinimgcomxeebdfdbaaajpg_cloth.jpg  \n",
            "  inflating: archive/data/train_masked/ben_afflek/httpsuploadwikimediaorgwikipediacommonsthumbddBenAffleckbyGageSkidmorejpgpxBenAffleckbyGageSkidmorejpg.jpg  \n",
            "  inflating: archive/data/train_masked/ben_afflek/httpsuploadwikimediaorgwikipediacommonsthumbddBenAffleckbyGageSkidmorejpgpxBenAffleckbyGageSkidmorejpg_cloth.jpg  \n",
            "  inflating: archive/data/train_masked/ben_afflek/httptrwebimgacstanetcxbdddmediasnmediajpg.jpg  \n",
            "  inflating: archive/data/train_masked/ben_afflek/httptrwebimgacstanetcxbdddmediasnmediajpg_cloth.jpg  \n",
            "  inflating: archive/data/train_masked/ben_afflek/httpwwwaceshowbizcomimagesphotobenaffleckjpg.jpg  \n",
            "  inflating: archive/data/train_masked/ben_afflek/httpwwwaceshowbizcomimagesphotobenaffleckjpg_cloth.jpg  \n",
            "  inflating: archive/data/train_masked/ben_afflek/httpwwwallposterscomimagesPostersPFjpg.jpg  \n",
            "  inflating: archive/data/train_masked/ben_afflek/httpwwwallposterscomimagesPostersPFjpg_cloth.jpg  \n",
            "  inflating: archive/data/train_masked/ben_afflek/httpwwwfilmscoopitcgibinattoriBENAFFLECKBENAFFLECKjpg.jpg  \n",
            "  inflating: archive/data/train_masked/ben_afflek/httpwwwfilmscoopitcgibinattoriBENAFFLECKBENAFFLECKjpg_cloth.jpg  \n",
            "  inflating: archive/data/train_masked/ben_afflek/httpwwwhillsindcomstorebenjpg.jpg  \n",
            "  inflating: archive/data/train_masked/ben_afflek/httpwwwhillsindcomstorebenjpg_cloth.jpg  \n",
            "  inflating: archive/data/train_masked/ben_afflek/httpwwwrumenewscomwpcontentuploadsbenafflekxpng.jpg  \n",
            "  inflating: archive/data/train_masked/ben_afflek/httpwwwrumenewscomwpcontentuploadsbenafflekxpng_cloth.jpg  \n",
            "   creating: archive/data/train_masked/elton_john/\n",
            "  inflating: archive/data/train_masked/elton_john/httpftqncomymusicLxZeltonjohnjpg.jpg  \n",
            "  inflating: archive/data/train_masked/elton_john/httpftqncomymusicLxZeltonjohnjpg_cloth.jpg  \n",
            "  inflating: archive/data/train_masked/elton_john/httpiamediaimdbcomimagesMMVBMTAxNDUMzUwOTdeQTJeQWpwZBbWUMDUOTAyNTIVUXCRALjpg.jpg  \n",
            "  inflating: archive/data/train_masked/elton_john/httpiamediaimdbcomimagesMMVBMTAxNDUMzUwOTdeQTJeQWpwZBbWUMDUOTAyNTIVUXCRALjpg_cloth.jpg  \n",
            "  inflating: archive/data/train_masked/elton_john/httpimagesmtvcomurimgidfiledocrootvhcomsitewideflipbooksimgdailyjpgenlargefalsemattetruematteColorblackquality.jpg  \n",
            "  inflating: archive/data/train_masked/elton_john/httpimagesmtvcomurimgidfiledocrootvhcomsitewideflipbooksimgdailyjpgenlargefalsemattetruematteColorblackquality_cloth.jpg  \n",
            "  inflating: archive/data/train_masked/elton_john/httpimggalpmdstaticnetfithttpAFFwwwEgalaEfrFvarFgalFstorageFimagesFmediaFmultiuploaddufevrierFeltonjohnFfreFRFeltonjohnEjpgxqualityeltonjohnjpg.jpg  \n",
            "  inflating: archive/data/train_masked/elton_john/httpimggalpmdstaticnetfithttpAFFwwwEgalaEfrFvarFgalFstorageFimagesFmediaFmultiuploaddufevrierFeltonjohnFfreFRFeltonjohnEjpgxqualityeltonjohnjpg_cloth.jpg  \n",
            "  inflating: archive/data/train_masked/elton_john/httpmediacacheecpinimgcomxffeffbcefjpg.jpg  \n",
            "  inflating: archive/data/train_masked/elton_john/httpmediacacheecpinimgcomxffeffbcefjpg_cloth.jpg  \n",
            "  inflating: archive/data/train_masked/elton_john/httpmediapopsugarassetscomfilescbffewltonjpg.jpg  \n",
            "  inflating: archive/data/train_masked/elton_john/httpmediapopsugarassetscomfilescbffewltonjpg_cloth.jpg  \n",
            "  inflating: archive/data/train_masked/elton_john/httpspmctvlinefileswordpresscomeltonjohnjpg.jpg  \n",
            "  inflating: archive/data/train_masked/elton_john/httpspmctvlinefileswordpresscomeltonjohnjpg_cloth.jpg  \n",
            "  inflating: archive/data/train_masked/elton_john/httpssmediacacheakpinimgcomxfcfcbaeaeddabbjpg.jpg  \n",
            "  inflating: archive/data/train_masked/elton_john/httpssmediacacheakpinimgcomxfcfcbaeaeddabbjpg_cloth.jpg  \n",
            "  inflating: archive/data/train_masked/elton_john/httpssmediacacheakpinimgcomxfecfecaefaadfebejpg.jpg  \n",
            "  inflating: archive/data/train_masked/elton_john/httpssmediacacheakpinimgcomxfecfecaefaadfebejpg_cloth.jpg  \n",
            "  inflating: archive/data/train_masked/elton_john/httpssmediacacheakpinimgcomxfefdacfbfdeadajpg.jpg  \n",
            "  inflating: archive/data/train_masked/elton_john/httpssmediacacheakpinimgcomxfefdacfbfdeadajpg_cloth.jpg  \n",
            "  inflating: archive/data/train_masked/elton_john/httpsuploadwikimediaorgwikipediacommonsthumbEltonJohninsjpgpxEltonJohninsjpg.jpg  \n",
            "  inflating: archive/data/train_masked/elton_john/httpsuploadwikimediaorgwikipediacommonsthumbEltonJohninsjpgpxEltonJohninsjpg_cloth.jpg  \n",
            "  inflating: archive/data/train_masked/elton_john/httpwwwdeadlinecomvimgnetwpcontentuploadseltonjpg.jpg  \n",
            "  inflating: archive/data/train_masked/elton_john/httpwwwdeadlinecomvimgnetwpcontentuploadseltonjpg_cloth.jpg  \n",
            "  inflating: archive/data/train_masked/elton_john/httpwwweonlinecomresizewwweonlinecomeolimagesEntireSitersxEltonJohnJRjpg.jpg  \n",
            "  inflating: archive/data/train_masked/elton_john/httpwwweonlinecomresizewwweonlinecomeolimagesEntireSitersxEltonJohnJRjpg_cloth.jpg  \n",
            "  inflating: archive/data/train_masked/elton_john/httpwwwjohnpauljonesarenacomeventimagesEltonCalendarVjpg.jpg  \n",
            "  inflating: archive/data/train_masked/elton_john/httpwwwjohnpauljonesarenacomeventimagesEltonCalendarVjpg_cloth.jpg  \n",
            "  inflating: archive/data/train_masked/elton_john/httpwwwlautdeEltonJohneltonjohnjpg.jpg  \n",
            "  inflating: archive/data/train_masked/elton_john/httpwwwlautdeEltonJohneltonjohnjpg_cloth.jpg  \n",
            "   creating: archive/data/train_masked/jerry_seinfeld/\n",
            "  inflating: archive/data/train_masked/jerry_seinfeld/httpgraphicsnytimescomimagessectionmoviesfilmographyWireImagejpg.jpg  \n",
            "  inflating: archive/data/train_masked/jerry_seinfeld/httpgraphicsnytimescomimagessectionmoviesfilmographyWireImagejpg_cloth.jpg  \n",
            "  inflating: archive/data/train_masked/jerry_seinfeld/httpikinjaimgcomgawkermediaimageuploadsWmIuhdsrcedidjpgjpg.jpg  \n",
            "  inflating: archive/data/train_masked/jerry_seinfeld/httpikinjaimgcomgawkermediaimageuploadsWmIuhdsrcedidjpgjpg_cloth.jpg  \n",
            "  inflating: archive/data/train_masked/jerry_seinfeld/httpimagescontactmusiccomnewsimagesjerryseinfeldjpg.jpg  \n",
            "  inflating: archive/data/train_masked/jerry_seinfeld/httpimagescontactmusiccomnewsimagesjerryseinfeldjpg_cloth.jpg  \n",
            "  inflating: archive/data/train_masked/jerry_seinfeld/httpimagesrottentomatoescomimagesspotlightsnewsjerryseinfeldjpg.jpg  \n",
            "  inflating: archive/data/train_masked/jerry_seinfeld/httpimagesrottentomatoescomimagesspotlightsnewsjerryseinfeldjpg_cloth.jpg  \n",
            "  inflating: archive/data/train_masked/jerry_seinfeld/httpimgthedrumcomsfspublicnewstmpjerryseinfeldjpg.jpg  \n",
            "  inflating: archive/data/train_masked/jerry_seinfeld/httpimgthedrumcomsfspublicnewstmpjerryseinfeldjpg_cloth.jpg  \n",
            "  inflating: archive/data/train_masked/jerry_seinfeld/httpimgtimeincnetpeopleinewsjerryseinfeldjpg.jpg  \n",
            "  inflating: archive/data/train_masked/jerry_seinfeld/httpimgtimeincnetpeopleinewsjerryseinfeldjpg_cloth.jpg  \n",
            "  inflating: archive/data/train_masked/jerry_seinfeld/httpmediapopsugarassetscomfilesusersxlargejpg.jpg  \n",
            "  inflating: archive/data/train_masked/jerry_seinfeld/httpmediapopsugarassetscomfilesusersxlargejpg_cloth.jpg  \n",
            "  inflating: archive/data/train_masked/jerry_seinfeld/httppfodcompchannelslegacyprofilejerryseinfeldpodcastjpg.jpg  \n",
            "  inflating: archive/data/train_masked/jerry_seinfeld/httppfodcompchannelslegacyprofilejerryseinfeldpodcastjpg_cloth.jpg  \n",
            "  inflating: archive/data/train_masked/jerry_seinfeld/httpsmedialivenationcomartiststapjpg.jpg  \n",
            "  inflating: archive/data/train_masked/jerry_seinfeld/httpsmedialivenationcomartiststapjpg_cloth.jpg  \n",
            "  inflating: archive/data/train_masked/jerry_seinfeld/httpsrobertaccetturacomwpcontentuploadsjerryseinfeldheadshotjpg.jpg  \n",
            "  inflating: archive/data/train_masked/jerry_seinfeld/httpsrobertaccetturacomwpcontentuploadsjerryseinfeldheadshotjpg_cloth.jpg  \n",
            "  inflating: archive/data/train_masked/jerry_seinfeld/httpstatictherichestimagescomcdncwpcontentuploadsJerrySeinfeldjpg.jpg  \n",
            "  inflating: archive/data/train_masked/jerry_seinfeld/httpstatictherichestimagescomcdncwpcontentuploadsJerrySeinfeldjpg_cloth.jpg  \n",
            "  inflating: archive/data/train_masked/jerry_seinfeld/httpsticketmnettmenusdbimagesajpg.jpg  \n",
            "  inflating: archive/data/train_masked/jerry_seinfeld/httpsticketmnettmenusdbimagesajpg_cloth.jpg  \n",
            "  inflating: archive/data/train_masked/jerry_seinfeld/httpsuploadwikimediaorgwikipediacommonsthumbbJerrySeinfeldjpgpxJerrySeinfeldjpg.jpg  \n",
            "  inflating: archive/data/train_masked/jerry_seinfeld/httpsuploadwikimediaorgwikipediacommonsthumbbJerrySeinfeldjpgpxJerrySeinfeldjpg_cloth.jpg  \n",
            "  inflating: archive/data/train_masked/jerry_seinfeld/httpsuswestamazonawscomblogsprodmediausuploadsJerrySeinfeldkidsxjpg.jpg  \n",
            "  inflating: archive/data/train_masked/jerry_seinfeld/httpsuswestamazonawscomblogsprodmediausuploadsJerrySeinfeldkidsxjpg_cloth.jpg  \n",
            "  inflating: archive/data/train_masked/jerry_seinfeld/httpswwwticketscomuploadsartistsjerryseinfeldbilletsjpg.jpg  \n",
            "  inflating: archive/data/train_masked/jerry_seinfeld/httpswwwticketscomuploadsartistsjerryseinfeldbilletsjpg_cloth.jpg  \n",
            "  inflating: archive/data/train_masked/jerry_seinfeld/httpwwweonlinecomresizewwweonlinecomeolimagesEntireSitersxjerryseinfeldjulialouisdreyfusjwjpg.jpg  \n",
            "  inflating: archive/data/train_masked/jerry_seinfeld/httpwwweonlinecomresizewwweonlinecomeolimagesEntireSitersxjerryseinfeldjulialouisdreyfusjwjpg_cloth.jpg  \n",
            "  inflating: archive/data/train_masked/jerry_seinfeld/httpwwwnndbcompeoplejerryseinfeldaujpg.jpg  \n",
            "  inflating: archive/data/train_masked/jerry_seinfeld/httpwwwnndbcompeoplejerryseinfeldaujpg_cloth.jpg  \n",
            "  inflating: archive/data/train_masked/jerry_seinfeld/httpwwwpictureszimbiocomgpJerrySeinfeldJessicaSeinfeldmarriedBczSipMdNMQljpg.jpg  \n",
            "  inflating: archive/data/train_masked/jerry_seinfeld/httpwwwpictureszimbiocomgpJerrySeinfeldJessicaSeinfeldmarriedBczSipMdNMQljpg_cloth.jpg  \n",
            "  inflating: archive/data/train_masked/jerry_seinfeld/httpwwwpsychiatrictimescomsitesdefaultfilesimagesmediaPTMofficSeinfeldjpg.jpg  \n",
            "  inflating: archive/data/train_masked/jerry_seinfeld/httpwwwpsychiatrictimescomsitesdefaultfilesimagesmediaPTMofficSeinfeldjpg_cloth.jpg  \n",
            "  inflating: archive/data/train_masked/jerry_seinfeld/httpwwwslatecomcontentdamslateblogsbrowbeatseinfeldjpgCROParticlemediumjpg.jpg  \n",
            "  inflating: archive/data/train_masked/jerry_seinfeld/httpwwwslatecomcontentdamslateblogsbrowbeatseinfeldjpgCROParticlemediumjpg_cloth.jpg  \n",
            "  inflating: archive/data/train_masked/jerry_seinfeld/httpwwwwatchidcomsitesdefaultfilesuploadsightingBreitlingwatchJerrySeinfeldjpg.jpg  \n",
            "  inflating: archive/data/train_masked/jerry_seinfeld/httpwwwwatchidcomsitesdefaultfilesuploadsightingBreitlingwatchJerrySeinfeldjpg_cloth.jpg  \n",
            "   creating: archive/data/train_masked/madonna/\n",
            "  inflating: archive/data/train_masked/madonna/httpiamediaimdbcomimagesMMVBMTANDQNTAxNDVeQTJeQWpwZBbWUMDIMjQOTYVUXCRALjpg.jpg  \n",
            "  inflating: archive/data/train_masked/madonna/httpiamediaimdbcomimagesMMVBMTANDQNTAxNDVeQTJeQWpwZBbWUMDIMjQOTYVUXCRALjpg_cloth.jpg  \n",
            "  inflating: archive/data/train_masked/madonna/httpimagegaladevcmseamadonnaprivatdetektivsquaretopsquarejpgv.jpg  \n",
            "  inflating: archive/data/train_masked/madonna/httpimagegaladevcmseamadonnaprivatdetektivsquaretopsquarejpgv_cloth.jpg  \n",
            "  inflating: archive/data/train_masked/madonna/httpimgclosermagfrvarclosermagstorageimagesactupeoplebiodestarsmadonnamadonnafreFRmadonnaexactxljpg.jpg  \n",
            "  inflating: archive/data/train_masked/madonna/httpimgclosermagfrvarclosermagstorageimagesactupeoplebiodestarsmadonnamadonnafreFRmadonnaexactxljpg_cloth.jpg  \n",
            "  inflating: archive/data/train_masked/madonna/httpmediavoguecomrwblondesdarkbrowsmadonnajpg.jpg  \n",
            "  inflating: archive/data/train_masked/madonna/httpmediavoguecomrwblondesdarkbrowsmadonnajpg_cloth.jpg  \n",
            "  inflating: archive/data/train_masked/madonna/httpresizeparismatchladmediafrrffffffcentermiddleimgvarnewsstorageimagesparismatchpeopleazmadonnafreFRMadonnajpg.jpg  \n",
            "  inflating: archive/data/train_masked/madonna/httpresizeparismatchladmediafrrffffffcentermiddleimgvarnewsstorageimagesparismatchpeopleazmadonnafreFRMadonnajpg_cloth.jpg  \n",
            "  inflating: archive/data/train_masked/madonna/httpssmediacacheakpinimgcomxaaeaaeecccaedfebdbjpg.jpg  \n",
            "  inflating: archive/data/train_masked/madonna/httpssmediacacheakpinimgcomxaaeaaeecccaedfebdbjpg_cloth.jpg  \n",
            "  inflating: archive/data/train_masked/madonna/httpssmediacacheakpinimgcomxdcfdcfedfaedadjpg.jpg  \n",
            "  inflating: archive/data/train_masked/madonna/httpssmediacacheakpinimgcomxdcfdcfedfaedadjpg_cloth.jpg  \n",
            "  inflating: archive/data/train_masked/madonna/httpssmediacacheakpinimgcomxfeebfdccajpg.jpg  \n",
            "  inflating: archive/data/train_masked/madonna/httpssmediacacheakpinimgcomxfeebfdccajpg_cloth.jpg  \n",
            "  inflating: archive/data/train_masked/madonna/httpssmediacacheakpinimgcomxffabffabbbcfbceaedjpg.jpg  \n",
            "  inflating: archive/data/train_masked/madonna/httpssmediacacheakpinimgcomxffabffabbbcfbceaedjpg_cloth.jpg  \n",
            "  inflating: archive/data/train_masked/madonna/httpssmediacacheakpinimgcomxffeabacaaejpg.jpg  \n",
            "  inflating: archive/data/train_masked/madonna/httpssmediacacheakpinimgcomxffeabacaaejpg_cloth.jpg  \n",
            "  inflating: archive/data/train_masked/madonna/httpssmediacacheakpinimgcomxffecfafddjpg.jpg  \n",
            "  inflating: archive/data/train_masked/madonna/httpssmediacacheakpinimgcomxffecfafddjpg_cloth.jpg  \n",
            "  inflating: archive/data/train_masked/madonna/httpssvagalumecommadonnaimagesmadonnajpg.jpg  \n",
            "  inflating: archive/data/train_masked/madonna/httpssvagalumecommadonnaimagesmadonnajpg_cloth.jpg  \n",
            "  inflating: archive/data/train_masked/madonna/httpsuploadwikimediaorgwikipediacommonsMadonnathAnnualGoldenGlobesAwardscroppedjpg.jpg  \n",
            "  inflating: archive/data/train_masked/madonna/httpsuploadwikimediaorgwikipediacommonsMadonnathAnnualGoldenGlobesAwardscroppedjpg_cloth.jpg  \n",
            "  inflating: archive/data/train_masked/madonna/httpsuploadwikimediaorgwikipediacommonsthumbaaMadonnaatthepremiereofIAmBecauseWeArejpgpxMadonnaatthepremiereofIAmBecauseWeArejpg.jpg  \n",
            "  inflating: archive/data/train_masked/madonna/httpsuploadwikimediaorgwikipediacommonsthumbaaMadonnaatthepremiereofIAmBecauseWeArejpgpxMadonnaatthepremiereofIAmBecauseWeArejpg_cloth.jpg  \n",
            "  inflating: archive/data/train_masked/madonna/httpuploadwikimediaorgwikipediacommonsthumbaMadonnaRotterdamjpgpxMadonnaRotterdamjpg.jpg  \n",
            "  inflating: archive/data/train_masked/madonna/httpuploadwikimediaorgwikipediacommonsthumbaMadonnaRotterdamjpgpxMadonnaRotterdamjpg_cloth.jpg  \n",
            "  inflating: archive/data/train_masked/madonna/httpwwwbeastiemaniacomwhoismadonnamadonnajpg.jpg  \n",
            "  inflating: archive/data/train_masked/madonna/httpwwwbeastiemaniacomwhoismadonnamadonnajpg_cloth.jpg  \n",
            "  inflating: archive/data/train_masked/madonna/httpwwwblackdogfilmscomwordpresswpcontentuploadsmadonnacelebrationxjpg.jpg  \n",
            "  inflating: archive/data/train_masked/madonna/httpwwwblackdogfilmscomwordpresswpcontentuploadsmadonnacelebrationxjpg_cloth.jpg  \n",
            "  inflating: archive/data/train_masked/madonna/httpwwwetonlinecomphotomadonnabdayjpg.jpg  \n",
            "  inflating: archive/data/train_masked/madonna/httpwwwetonlinecomphotomadonnabdayjpg_cloth.jpg  \n",
            "   creating: archive/data/train_masked/me/\n",
            "  inflating: archive/data/train_masked/me/IMG_20190628_163021.jpg  \n",
            "  inflating: archive/data/train_masked/me/IMG_20190628_163021_N95.jpg  \n",
            "  inflating: archive/data/train_masked/me/IMG_20190628_172236.jpg  \n",
            "  inflating: archive/data/train_masked/me/IMG_20190628_172236_N95.jpg  \n",
            "  inflating: archive/data/train_masked/me/IMG_20190628_172249.jpg  \n",
            "  inflating: archive/data/train_masked/me/IMG_20190628_172249_N95.jpg  \n",
            "  inflating: archive/data/train_masked/me/IMG_20191221_184836_Bokeh.jpg  \n",
            "  inflating: archive/data/train_masked/me/IMG_20191221_184836_Bokeh_N95.jpg  \n",
            "  inflating: archive/data/train_masked/me/IMG_20201023_160653.jpg  \n",
            "  inflating: archive/data/train_masked/me/IMG_20201023_160653_N95.jpg  \n",
            "  inflating: archive/data/train_masked/me/MVIMG_20200921_173005.jpg  \n",
            " extracting: archive/data/train_masked/me/MVIMG_20200921_173005_N95.jpg  \n",
            "  inflating: archive/data/train_masked/me/WIN_20210331_15_50_44_Pro.jpg  \n",
            "  inflating: archive/data/train_masked/me/WIN_20210331_15_50_44_Pro_N95.jpg  \n",
            "   creating: archive/data/train_masked/mindy_kaling/\n",
            "  inflating: archive/data/train_masked/mindy_kaling/httpgonetworthcomwpcontentuploadsthumbsjpg.jpg  \n",
            "  inflating: archive/data/train_masked/mindy_kaling/httpgonetworthcomwpcontentuploadsthumbsjpg_cloth.jpg  \n",
            "  inflating: archive/data/train_masked/mindy_kaling/httpgraphicsnytimescomimagesmagazinekalingkalingarticleInlinejpg.jpg  \n",
            "  inflating: archive/data/train_masked/mindy_kaling/httpgraphicsnytimescomimagesmagazinekalingkalingarticleInlinejpg_cloth.jpg  \n",
            "  inflating: archive/data/train_masked/mindy_kaling/httpimagesnymagcomimagesdailymindykalingxjpg.jpg  \n",
            "  inflating: archive/data/train_masked/mindy_kaling/httpimagesnymagcomimagesdailymindykalingxjpg_cloth.jpg  \n",
            "  inflating: archive/data/train_masked/mindy_kaling/httpmediaonsugarcomfilesbabaaaaaMindyInterviewxxxlargejpg.jpg  \n",
            "  inflating: archive/data/train_masked/mindy_kaling/httpmediaonsugarcomfilesbabaaaaaMindyInterviewxxxlargejpg_cloth.jpg  \n",
            "  inflating: archive/data/train_masked/mindy_kaling/httppixelnymagcomimgsfashiondailymindykalingwhjpg.jpg  \n",
            "  inflating: archive/data/train_masked/mindy_kaling/httppixelnymagcomimgsfashiondailymindykalingwhjpg_cloth.jpg  \n",
            "  inflating: archive/data/train_masked/mindy_kaling/httpsamazonawscomkidzworldphotoimagesbccdddaaadgallerymindykalinggalleryjpg.jpg  \n",
            "  inflating: archive/data/train_masked/mindy_kaling/httpsamazonawscomkidzworldphotoimagesbccdddaaadgallerymindykalinggalleryjpg_cloth.jpg  \n",
            "  inflating: archive/data/train_masked/mindy_kaling/httpsimagesnasslimagesamazoncomimagesIAQdwKvFILUXjpg.jpg  \n",
            "  inflating: archive/data/train_masked/mindy_kaling/httpsimagesnasslimagesamazoncomimagesIAQdwKvFILUXjpg_cloth.jpg  \n",
            "  inflating: archive/data/train_masked/mindy_kaling/httpsimgbuzzfeedcombuzzfeedstaticstaticcampaignimageswebdradorableetsyitemsallmindykalingfansneedbigjpg.jpg  \n",
            "  inflating: archive/data/train_masked/mindy_kaling/httpsimgbuzzfeedcombuzzfeedstaticstaticcampaignimageswebdradorableetsyitemsallmindykalingfansneedbigjpg_cloth.jpg  \n",
            "  inflating: archive/data/train_masked/mindy_kaling/httpssmediacacheakpinimgcomxafaffbbbbdbcbdddjpg.jpg  \n",
            "  inflating: archive/data/train_masked/mindy_kaling/httpssmediacacheakpinimgcomxafaffbbbbdbcbdddjpg_cloth.jpg  \n",
            "  inflating: archive/data/train_masked/mindy_kaling/httpssmediacacheakpinimgcomxbabafeacbaaacabffjpg.jpg  \n",
            "  inflating: archive/data/train_masked/mindy_kaling/httpssmediacacheakpinimgcomxbabafeacbaaacabffjpg_cloth.jpg  \n",
            "  inflating: archive/data/train_masked/mindy_kaling/httpssmediacacheakpinimgcomxbbfcbdedfbfdbjpg.jpg  \n",
            "  inflating: archive/data/train_masked/mindy_kaling/httpssmediacacheakpinimgcomxbbfcbdedfbfdbjpg_cloth.jpg  \n",
            "  inflating: archive/data/train_masked/mindy_kaling/httpssmediacacheakpinimgcomxcccccddbbfedabjpg.jpg  \n",
            "  inflating: archive/data/train_masked/mindy_kaling/httpssmediacacheakpinimgcomxcccccddbbfedabjpg_cloth.jpg  \n",
            "  inflating: archive/data/train_masked/mindy_kaling/httpssmediacacheakpinimgcomxccccdabeaadjpg.jpg  \n",
            "  inflating: archive/data/train_masked/mindy_kaling/httpssmediacacheakpinimgcomxccccdabeaadjpg_cloth.jpg  \n",
            "  inflating: archive/data/train_masked/mindy_kaling/httpssmediacacheakpinimgcomxededbebccdajpg.jpg  \n",
            "  inflating: archive/data/train_masked/mindy_kaling/httpssmediacacheakpinimgcomxededbebccdajpg_cloth.jpg  \n",
            "  inflating: archive/data/train_masked/mindy_kaling/httpsuploadwikimediaorgwikipediacommonsthumbMindyBKalingBPaleyFestBNewBYorkBBMindyBIqZgUWvbljpgpxMindyBKalingBPaleyFestBNewBYorkBBMindyBIqZgUWvbljpg.jpg  \n",
            "  inflating: archive/data/train_masked/mindy_kaling/httpsuploadwikimediaorgwikipediacommonsthumbMindyBKalingBPaleyFestBNewBYorkBBMindyBIqZgUWvbljpgpxMindyBKalingBPaleyFestBNewBYorkBBMindyBIqZgUWvbljpg_cloth.jpg  \n",
            "  inflating: archive/data/train_masked/mindy_kaling/httpwwwadweekcomfilesimagecachenodeinlinemindykalingprofilehedjpg.jpg  \n",
            "  inflating: archive/data/train_masked/mindy_kaling/httpwwwadweekcomfilesimagecachenodeinlinemindykalingprofilehedjpg_cloth.jpg  \n",
            "  inflating: archive/data/train_masked/mindy_kaling/httpwwwbooksforbetterlivingcomwpcontentuploadsMindyKalingAuthorPhotojpg.jpg  \n",
            "  inflating: archive/data/train_masked/mindy_kaling/httpwwwbooksforbetterlivingcomwpcontentuploadsMindyKalingAuthorPhotojpg_cloth.jpg  \n",
            "  inflating: archive/data/train_masked/mindy_kaling/httpwwweonlinecomeolimagesEntireSiteregKalingCancermhjpg.jpg  \n",
            "  inflating: archive/data/train_masked/mindy_kaling/httpwwweonlinecomeolimagesEntireSiteregKalingCancermhjpg_cloth.jpg  \n",
            "  inflating: archive/data/train_masked/mindy_kaling/httpwwwimpropercomimagesuploadsusercontentimagesSoroffMindyjpg.jpg  \n",
            "  inflating: archive/data/train_masked/mindy_kaling/httpwwwimpropercomimagesuploadsusercontentimagesSoroffMindyjpg_cloth.jpg  \n",
            "  inflating: archive/data/train_masked/mindy_kaling/httpwwwpictureszimbiocomfpMindyKalingfBgaONVFDFmjpg.jpg  \n",
            "  inflating: archive/data/train_masked/mindy_kaling/httpwwwpictureszimbiocomfpMindyKalingfBgaONVFDFmjpg_cloth.jpg  \n",
            "  inflating: archive/data/train_masked/mindy_kaling/httpwwwpictureszimbiocomgiMindyKalingLkvEhTwDeJmjpg.jpg  \n",
            "  inflating: archive/data/train_masked/mindy_kaling/httpwwwpictureszimbiocomgiMindyKalingLkvEhTwDeJmjpg_cloth.jpg  \n",
            "   creating: archive/data/val/\n",
            "   creating: archive/data/val/ben_afflek/\n",
            "  inflating: archive/data/val/ben_afflek/httpabsolumentgratuitfreefrimagesbenaffleckjpg.jpg  \n",
            "  inflating: archive/data/val/ben_afflek/httpafilesbiographycomimageuploadcfillcssrgbdprgfacehqwMTENDgMDUODczNDcNTcjpg.jpg  \n",
            "  inflating: archive/data/val/ben_afflek/httpbpblogspotcomedLMjVpRGkSWexgsXjkNIAAAAAAAADWgFFtAUqBlhAsjpg.jpg  \n",
            "  inflating: archive/data/val/ben_afflek/httpcsvkmeuaafdfjpg.jpg  \n",
            "  inflating: archive/data/val/ben_afflek/httpcsvkmeuadecafjpg.jpg  \n",
            "   creating: archive/data/val/elton_john/\n",
            "  inflating: archive/data/val/elton_john/httpafilesbiographycomimageuploadcfillcssrgbdprgfacehqwMTEODAOTcxNjcMjczMjkzjpg.jpg  \n",
            "  inflating: archive/data/val/elton_john/httpcdncdnjustjaredcomwpcontentuploadsheadlineseltonjohnemmysperformancewatchnowjpg.jpg  \n",
            "  inflating: archive/data/val/elton_john/httpcdncdnjustjaredcomwpcontentuploadsheadlineseltonjohnstillstandingbrooklynnewyearsjpg.jpg  \n",
            "  inflating: archive/data/val/elton_john/httpcdncdnjustjaredcomwpcontentuploadsheadlineseltonjohnsupportsbrucejennerstransitiontowomanjpg.jpg  \n",
            "  inflating: archive/data/val/elton_john/httpcdnlyricssongonlyricsnetwpcontentuploadsEltonJohnDiscographyCDreleasesjpg.jpg  \n",
            "   creating: archive/data/val/jerry_seinfeld/\n",
            "  inflating: archive/data/val/jerry_seinfeld/httpafilesbiographycomimageuploadcfillcssrgbdprgfacehqwMTIwNjANjMMDINzIxNjcjpg.jpg  \n",
            "  inflating: archive/data/val/jerry_seinfeld/httpaurorasblogcomwpcontentuploadsjerryseinfeldpublicityshotjpg.jpg  \n",
            "  inflating: archive/data/val/jerry_seinfeld/httpblognjcomentertainmentimpactcelebritiesmediumjerrybjpg.jpg  \n",
            "  inflating: archive/data/val/jerry_seinfeld/httpcdncdnjustjaredcomwpcontentuploadsheadlinesjerryseinfeldmakesbrianwilliamsjokejpg.jpg  \n",
            "  inflating: archive/data/val/jerry_seinfeld/httpcdnssninsidercomwpcontentuploadsjerryseinfeldxjpg.jpg  \n",
            "   creating: archive/data/val/madonna/\n",
            "  inflating: archive/data/val/madonna/httpassetsrollingstonecomassetsarticlemadonnadavidbowiechangedthecourseofmylifeforeversmallsquarexmadonnabowiejpg.jpg  \n",
            "  inflating: archive/data/val/madonna/httpassetsrollingstonecomassetsimagesalbumreviewaffaceabdcccaeedjpg.jpg  \n",
            "  inflating: archive/data/val/madonna/httpcdncdnjustjaredcomwpcontentuploadsheadlinesmadonnatalksparisattackstearsjpg.jpg  \n",
            " extracting: archive/data/val/madonna/httpcdnfuncheapcomwpcontentuploadsVOGUEjpg.jpg  \n",
            "  inflating: archive/data/val/madonna/httpecximagesamazoncomimagesIfmaBKWLACULSRjpg.jpg  \n",
            "   creating: archive/data/val/mindy_kaling/\n",
            "  inflating: archive/data/val/mindy_kaling/httpafilesbiographycomimageuploadcfillcssrgbdprgfacehqwMTIOTcwODQNTUzNjQMzcjpg.jpg  \n",
            "  inflating: archive/data/val/mindy_kaling/httpcdncdnjustjaredcomwpcontentuploadsheadlinesmindykalingcomedypilotjpg.jpg  \n",
            "  inflating: archive/data/val/mindy_kaling/httpcdnpastemagazinecomwwwarticlesmindykalingndbookjpg.jpg  \n",
            "  inflating: archive/data/val/mindy_kaling/httpcdnpastemagazinecomwwwarticlesmindyprojectjpg.jpg  \n",
            "  inflating: archive/data/val/mindy_kaling/httpdbrbzkkbdsdcloudfrontnetwpcontentuploadsMindyKalingjpg.jpg  \n",
            "   creating: archive/data/val_masked/\n",
            "   creating: archive/data/val_masked/ben_afflek/\n",
            "  inflating: archive/data/val_masked/ben_afflek/ben.jpg  \n",
            "  inflating: archive/data/val_masked/ben_afflek/download (1).jpg  \n",
            "  inflating: archive/data/val_masked/ben_afflek/httpabsolumentgratuitfreefrimagesbenaffleckjpg.jpg  \n",
            "  inflating: archive/data/val_masked/ben_afflek/httpabsolumentgratuitfreefrimagesbenaffleckjpg_N95.jpg  \n",
            "  inflating: archive/data/val_masked/ben_afflek/httpafilesbiographycomimageuploadcfillcssrgbdprgfacehqwMTENDgMDUODczNDcNTcjpg.jpg  \n",
            "  inflating: archive/data/val_masked/ben_afflek/httpafilesbiographycomimageuploadcfillcssrgbdprgfacehqwMTENDgMDUODczNDcNTcjpg_N95.jpg  \n",
            "  inflating: archive/data/val_masked/ben_afflek/httpbpblogspotcomedLMjVpRGkSWexgsXjkNIAAAAAAAADWgFFtAUqBlhAsjpg.jpg  \n",
            "  inflating: archive/data/val_masked/ben_afflek/httpbpblogspotcomedLMjVpRGkSWexgsXjkNIAAAAAAAADWgFFtAUqBlhAsjpg_N95.jpg  \n",
            "  inflating: archive/data/val_masked/ben_afflek/httpcsvkmeuadecafjpg.jpg  \n",
            "  inflating: archive/data/val_masked/ben_afflek/httpcsvkmeuadecafjpg_N95.jpg  \n",
            "  inflating: archive/data/val_masked/ben_afflek/images (1).jpg  \n",
            "  inflating: archive/data/val_masked/ben_afflek/images.jpg  \n",
            "   creating: archive/data/val_masked/elton_john/\n",
            "  inflating: archive/data/val_masked/elton_john/httpafilesbiographycomimageuploadcfillcssrgbdprgfacehqwMTEODAOTcxNjcMjczMjkzjpg.jpg  \n",
            "  inflating: archive/data/val_masked/elton_john/httpafilesbiographycomimageuploadcfillcssrgbdprgfacehqwMTEODAOTcxNjcMjczMjkzjpg_N95.jpg  \n",
            "  inflating: archive/data/val_masked/elton_john/httpcdncdnjustjaredcomwpcontentuploadsheadlineseltonjohnemmysperformancewatchnowjpg.jpg  \n",
            "  inflating: archive/data/val_masked/elton_john/httpcdncdnjustjaredcomwpcontentuploadsheadlineseltonjohnemmysperformancewatchnowjpg_N95.jpg  \n",
            "  inflating: archive/data/val_masked/elton_john/httpcdncdnjustjaredcomwpcontentuploadsheadlineseltonjohnstillstandingbrooklynnewyearsjpg.jpg  \n",
            "  inflating: archive/data/val_masked/elton_john/httpcdncdnjustjaredcomwpcontentuploadsheadlineseltonjohnstillstandingbrooklynnewyearsjpg_N95.jpg  \n",
            "  inflating: archive/data/val_masked/elton_john/httpcdncdnjustjaredcomwpcontentuploadsheadlineseltonjohnsupportsbrucejennerstransitiontowomanjpg.jpg  \n",
            "  inflating: archive/data/val_masked/elton_john/httpcdncdnjustjaredcomwpcontentuploadsheadlineseltonjohnsupportsbrucejennerstransitiontowomanjpg_N95.jpg  \n",
            "  inflating: archive/data/val_masked/elton_john/httpcdnlyricssongonlyricsnetwpcontentuploadsEltonJohnDiscographyCDreleasesjpg.jpg  \n",
            "  inflating: archive/data/val_masked/elton_john/httpcdnlyricssongonlyricsnetwpcontentuploadsEltonJohnDiscographyCDreleasesjpg_N95.jpg  \n",
            "   creating: archive/data/val_masked/jerry_seinfeld/\n",
            "  inflating: archive/data/val_masked/jerry_seinfeld/httpafilesbiographycomimageuploadcfillcssrgbdprgfacehqwMTIwNjANjMMDINzIxNjcjpg.jpg  \n",
            "  inflating: archive/data/val_masked/jerry_seinfeld/httpafilesbiographycomimageuploadcfillcssrgbdprgfacehqwMTIwNjANjMMDINzIxNjcjpg_N95.jpg  \n",
            "  inflating: archive/data/val_masked/jerry_seinfeld/httpaurorasblogcomwpcontentuploadsjerryseinfeldpublicityshotjpg.jpg  \n",
            "  inflating: archive/data/val_masked/jerry_seinfeld/httpaurorasblogcomwpcontentuploadsjerryseinfeldpublicityshotjpg_N95.jpg  \n",
            "  inflating: archive/data/val_masked/jerry_seinfeld/httpblognjcomentertainmentimpactcelebritiesmediumjerrybjpg.jpg  \n",
            "  inflating: archive/data/val_masked/jerry_seinfeld/httpblognjcomentertainmentimpactcelebritiesmediumjerrybjpg_N95.jpg  \n",
            "  inflating: archive/data/val_masked/jerry_seinfeld/httpcdncdnjustjaredcomwpcontentuploadsheadlinesjerryseinfeldmakesbrianwilliamsjokejpg.jpg  \n",
            "  inflating: archive/data/val_masked/jerry_seinfeld/httpcdncdnjustjaredcomwpcontentuploadsheadlinesjerryseinfeldmakesbrianwilliamsjokejpg_N95.jpg  \n",
            "  inflating: archive/data/val_masked/jerry_seinfeld/httpcdnssninsidercomwpcontentuploadsjerryseinfeldxjpg.jpg  \n",
            "  inflating: archive/data/val_masked/jerry_seinfeld/httpcdnssninsidercomwpcontentuploadsjerryseinfeldxjpg_N95.jpg  \n",
            "   creating: archive/data/val_masked/madonna/\n",
            "  inflating: archive/data/val_masked/madonna/httpassetsrollingstonecomassetsarticlemadonnadavidbowiechangedthecourseofmylifeforeversmallsquarexmadonnabowiejpg.jpg  \n",
            "  inflating: archive/data/val_masked/madonna/httpassetsrollingstonecomassetsarticlemadonnadavidbowiechangedthecourseofmylifeforeversmallsquarexmadonnabowiejpg_N95.jpg  \n",
            "  inflating: archive/data/val_masked/madonna/httpassetsrollingstonecomassetsimagesalbumreviewaffaceabdcccaeedjpg.jpg  \n",
            "  inflating: archive/data/val_masked/madonna/httpassetsrollingstonecomassetsimagesalbumreviewaffaceabdcccaeedjpg_N95.jpg  \n",
            "  inflating: archive/data/val_masked/madonna/httpcdncdnjustjaredcomwpcontentuploadsheadlinesmadonnatalksparisattackstearsjpg.jpg  \n",
            "  inflating: archive/data/val_masked/madonna/httpcdncdnjustjaredcomwpcontentuploadsheadlinesmadonnatalksparisattackstearsjpg_N95.jpg  \n",
            "  inflating: archive/data/val_masked/madonna/httpcdnfuncheapcomwpcontentuploadsVOGUEjpg.jpg  \n",
            "  inflating: archive/data/val_masked/madonna/httpcdnfuncheapcomwpcontentuploadsVOGUEjpg_N95.jpg  \n",
            "  inflating: archive/data/val_masked/madonna/httpecximagesamazoncomimagesIfmaBKWLACULSRjpg.jpg  \n",
            "  inflating: archive/data/val_masked/madonna/httpecximagesamazoncomimagesIfmaBKWLACULSRjpg_N95.jpg  \n",
            "   creating: archive/data/val_masked/mindy_kaling/\n",
            "  inflating: archive/data/val_masked/mindy_kaling/download (1).jpg  \n",
            "  inflating: archive/data/val_masked/mindy_kaling/download (2).jpg  \n",
            "  inflating: archive/data/val_masked/mindy_kaling/download.jpg  \n",
            "  inflating: archive/data/val_masked/mindy_kaling/httpafilesbiographycomimageuploadcfillcssrgbdprgfacehqwMTIOTcwODQNTUzNjQMzcjpg.jpg  \n",
            "  inflating: archive/data/val_masked/mindy_kaling/httpafilesbiographycomimageuploadcfillcssrgbdprgfacehqwMTIOTcwODQNTUzNjQMzcjpg_N95.jpg  \n",
            "  inflating: archive/data/val_masked/mindy_kaling/httpcdncdnjustjaredcomwpcontentuploadsheadlinesmindykalingcomedypilotjpg.jpg  \n",
            "  inflating: archive/data/val_masked/mindy_kaling/httpcdncdnjustjaredcomwpcontentuploadsheadlinesmindykalingcomedypilotjpg_N95.jpg  \n",
            "  inflating: archive/data/val_masked/mindy_kaling/httpcdnpastemagazinecomwwwarticlesmindykalingndbookjpg.jpg  \n",
            "  inflating: archive/data/val_masked/mindy_kaling/httpcdnpastemagazinecomwwwarticlesmindykalingndbookjpg_N95.jpg  \n",
            "  inflating: archive/data/val_masked/mindy_kaling/httpcdnpastemagazinecomwwwarticlesmindyprojectjpg.jpg  \n",
            "  inflating: archive/data/val_masked/mindy_kaling/httpcdnpastemagazinecomwwwarticlesmindyprojectjpg_N95.jpg  \n",
            "  inflating: archive/data/val_masked/mindy_kaling/httpdbrbzkkbdsdcloudfrontnetwpcontentuploadsMindyKalingjpg.jpg  \n",
            "  inflating: archive/data/val_masked/mindy_kaling/httpdbrbzkkbdsdcloudfrontnetwpcontentuploadsMindyKalingjpg_N95.jpg  \n"
          ],
          "name": "stdout"
        }
      ]
    },
    {
      "cell_type": "code",
      "metadata": {
        "colab": {
          "base_uri": "https://localhost:8080/",
          "height": 1000
        },
        "id": "9-WczWUGNQT2",
        "outputId": "84ec025f-f0cb-4a5c-871d-fc94bb52aa1a"
      },
      "source": [
        "folder = \"/content/archive/data/train_masked/me/\"\n",
        "i = 1\n",
        "for filename in os.listdir(folder):\n",
        "  path = folder + filename\n",
        "  start_time = time.time()\n",
        "  face = extract_face(path)\n",
        "  end_time = time.time()\n",
        "  elapsed_time = end_time - start_time\n",
        "  print('Done! Took {} miliseconds'.format(elapsed_time*1000))\n",
        "  print(i,face.shape)\n",
        "  plt.subplot(7,7,i)\n",
        "  plt.axis(\"off\")\n",
        "  plt.imshow(face)\n",
        "  i+=1\n",
        "  plt.show()  "
      ],
      "execution_count": null,
      "outputs": [
        {
          "output_type": "stream",
          "text": [
            "Done! Took 53.29751968383789 miliseconds\n",
            "1 (160, 160, 3)\n"
          ],
          "name": "stdout"
        },
        {
          "output_type": "display_data",
          "data": {
            "image/png": "[encoded data removed]",
            "text/plain": [
              "<Figure size 432x288 with 1 Axes>"
            ]
          },
          "metadata": {
            "tags": [],
            "needs_background": "light"
          }
        },
        {
          "output_type": "stream",
          "text": [
            "Done! Took 63.05122375488281 miliseconds\n",
            "2 (160, 160, 3)\n"
          ],
          "name": "stdout"
        },
        {
          "output_type": "display_data",
          "data": {
            "image/png": "[encoded data removed]",
            "text/plain": [
              "<Figure size 432x288 with 1 Axes>"
            ]
          },
          "metadata": {
            "tags": [],
            "needs_background": "light"
          }
        },
        {
          "output_type": "stream",
          "text": [
            "Done! Took 135.209321975708 miliseconds\n",
            "3 (160, 160, 3)\n"
          ],
          "name": "stdout"
        },
        {
          "output_type": "display_data",
          "data": {
            "image/png": "[encoded data removed]",
            "text/plain": [
              "<Figure size 432x288 with 1 Axes>"
            ]
          },
          "metadata": {
            "tags": [],
            "needs_background": "light"
          }
        },
        {
          "output_type": "stream",
          "text": [
            "Done! Took 32.224416732788086 miliseconds\n",
            "4 (160, 160, 3)\n"
          ],
          "name": "stdout"
        },
        {
          "output_type": "display_data",
          "data": {
            "image/png": "[encoded data removed]",
            "text/plain": [
              "<Figure size 432x288 with 1 Axes>"
            ]
          },
          "metadata": {
            "tags": [],
            "needs_background": "light"
          }
        },
        {
          "output_type": "stream",
          "text": [
            "Done! Took 30.648231506347656 miliseconds\n",
            "5 (160, 160, 3)\n"
          ],
          "name": "stdout"
        },
        {
          "output_type": "display_data",
          "data": {
            "image/png": "[encoded data removed]",
            "text/plain": [
              "<Figure size 432x288 with 1 Axes>"
            ]
          },
          "metadata": {
            "tags": [],
            "needs_background": "light"
          }
        },
        {
          "output_type": "stream",
          "text": [
            "Done! Took 455.3349018096924 miliseconds\n",
            "6 (160, 160, 3)\n"
          ],
          "name": "stdout"
        },
        {
          "output_type": "display_data",
          "data": {
            "image/png": "[encoded data removed]",
            "text/plain": [
              "<Figure size 432x288 with 1 Axes>"
            ]
          },
          "metadata": {
            "tags": [],
            "needs_background": "light"
          }
        },
        {
          "output_type": "stream",
          "text": [
            "Done! Took 56.82706832885742 miliseconds\n",
            "7 (160, 160, 3)\n"
          ],
          "name": "stdout"
        },
        {
          "output_type": "display_data",
          "data": {
            "image/png": "[encoded data removed]",
            "text/plain": [
              "<Figure size 432x288 with 1 Axes>"
            ]
          },
          "metadata": {
            "tags": [],
            "needs_background": "light"
          }
        },
        {
          "output_type": "stream",
          "text": [
            "Done! Took 404.8609733581543 miliseconds\n",
            "8 (160, 160, 3)\n"
          ],
          "name": "stdout"
        },
        {
          "output_type": "display_data",
          "data": {
            "image/png": "[encoded data removed]",
            "text/plain": [
              "<Figure size 432x288 with 1 Axes>"
            ]
          },
          "metadata": {
            "tags": [],
            "needs_background": "light"
          }
        },
        {
          "output_type": "stream",
          "text": [
            "Done! Took 727.8842926025391 miliseconds\n",
            "9 (160, 160, 3)\n"
          ],
          "name": "stdout"
        },
        {
          "output_type": "display_data",
          "data": {
            "image/png": "[encoded data removed]",
            "text/plain": [
              "<Figure size 432x288 with 1 Axes>"
            ]
          },
          "metadata": {
            "tags": [],
            "needs_background": "light"
          }
        },
        {
          "output_type": "stream",
          "text": [
            "Done! Took 490.0186061859131 miliseconds\n",
            "10 (160, 160, 3)\n"
          ],
          "name": "stdout"
        },
        {
          "output_type": "display_data",
          "data": {
            "image/png": "[encoded data removed]",
            "text/plain": [
              "<Figure size 432x288 with 1 Axes>"
            ]
          },
          "metadata": {
            "tags": [],
            "needs_background": "light"
          }
        },
        {
          "output_type": "stream",
          "text": [
            "Done! Took 41.834115982055664 miliseconds\n",
            "11 (160, 160, 3)\n"
          ],
          "name": "stdout"
        },
        {
          "output_type": "display_data",
          "data": {
            "image/png": "[encoded data removed]",
            "text/plain": [
              "<Figure size 432x288 with 1 Axes>"
            ]
          },
          "metadata": {
            "tags": [],
            "needs_background": "light"
          }
        },
        {
          "output_type": "stream",
          "text": [
            "Done! Took 126.65629386901855 miliseconds\n",
            "12 (160, 160, 3)\n"
          ],
          "name": "stdout"
        },
        {
          "output_type": "display_data",
          "data": {
            "image/png": "[encoded data removed]",
            "text/plain": [
              "<Figure size 432x288 with 1 Axes>"
            ]
          },
          "metadata": {
            "tags": [],
            "needs_background": "light"
          }
        },
        {
          "output_type": "stream",
          "text": [
            "Done! Took 737.424373626709 miliseconds\n",
            "13 (160, 160, 3)\n"
          ],
          "name": "stdout"
        },
        {
          "output_type": "display_data",
          "data": {
            "image/png": "[encoded data removed]",
            "text/plain": [
              "<Figure size 432x288 with 1 Axes>"
            ]
          },
          "metadata": {
            "tags": [],
            "needs_background": "light"
          }
        },
        {
          "output_type": "stream",
          "text": [
            "Done! Took 469.62666511535645 miliseconds\n",
            "14 (160, 160, 3)\n"
          ],
          "name": "stdout"
        },
        {
          "output_type": "display_data",
          "data": {
            "image/png": "[encoded data removed]",
            "text/plain": [
              "<Figure size 432x288 with 1 Axes>"
            ]
          },
          "metadata": {
            "tags": [],
            "needs_background": "light"
          }
        }
      ]
    },
    {
      "cell_type": "code",
      "metadata": {
        "id": "Kpp5hMWlOeOG"
      },
      "source": [
        "def load_faces(directory):\n",
        "\tfaces = list()\n",
        "\t# enumerate files\n",
        "\tfor filename in os.listdir(directory):\n",
        "\t\t# path\n",
        "\t\tpath = directory + filename\n",
        "\t\t# get face\n",
        "\t\tface = extract_face(path)\n",
        "\t\t# store\n",
        "\t\tfaces.append(face)\n",
        "\treturn faces"
      ],
      "execution_count": null,
      "outputs": []
    },
    {
      "cell_type": "code",
      "metadata": {
        "id": "93mpIGxuGfCt"
      },
      "source": [
        "def load_dataset(directory):\n",
        "\tX, y = list(), list()\n",
        "\t# enumerate folders, on per class\n",
        "\tfor subdir in os.listdir(directory):\n",
        "\t\t# path\n",
        "\t\tpath = directory + subdir + '/'\n",
        "\t\t# skip any files that might be in the dir\n",
        "\t\tif not os.path.isdir(path):\n",
        "\t\t\tcontinue\n",
        "\t\t# load all faces in the subdirectory\n",
        "\t\tfaces = load_faces(path)\n",
        "\t\t# create labels\n",
        "\t\tlabels = [subdir for _ in range(len(faces))]\n",
        "\t\t# summarize progress\n",
        "\t\tprint('>loaded %d examples for class: %s' % (len(faces), subdir))\n",
        "\t\t# store\n",
        "\t\tX.extend(faces)\n",
        "\t\ty.extend(labels)\n",
        "\treturn np.asarray(X), np.asarray(y)"
      ],
      "execution_count": null,
      "outputs": []
    },
    {
      "cell_type": "code",
      "metadata": {
        "colab": {
          "base_uri": "https://localhost:8080/"
        },
        "id": "h-rAfynvGh2m",
        "outputId": "65f2986a-54bb-4cda-867e-b2b7ef936df6"
      },
      "source": [
        "trainX, trainy = load_dataset('/content/archive/data/train_masked/')\n",
        "print(trainX.shape, trainy.shape)\n",
        "# load test dataset\n",
        "testX, testy = load_dataset('/content/archive/data/val_masked/')\n",
        "print(testX.shape, testy.shape)\n",
        "# save arrays to one file in compressed format\n",
        "np.savez_compressed('5-celebrity-faces-dataset.npz', trainX, trainy, testX, testy)"
      ],
      "execution_count": null,
      "outputs": [
        {
          "output_type": "stream",
          "text": [
            ">loaded 42 examples for class: mindy_kaling\n",
            ">loaded 42 examples for class: jerry_seinfeld\n",
            ">loaded 30 examples for class: elton_john\n",
            ">loaded 26 examples for class: ben_afflek\n",
            ">loaded 14 examples for class: me\n",
            ">loaded 36 examples for class: madonna\n",
            "(190, 160, 160, 3) (190,)\n",
            ">loaded 13 examples for class: mindy_kaling\n",
            ">loaded 10 examples for class: jerry_seinfeld\n",
            ">loaded 10 examples for class: elton_john\n",
            ">loaded 12 examples for class: ben_afflek\n",
            ">loaded 10 examples for class: madonna\n",
            "(55, 160, 160, 3) (55,)\n"
          ],
          "name": "stdout"
        }
      ]
    },
    {
      "cell_type": "code",
      "metadata": {
        "id": "-J6DgTDHGpqa"
      },
      "source": [
        "def get_embedding(model, face_pixels):\n",
        "\t# scale pixel values\n",
        "\tface_pixels = face_pixels.astype('float32')\n",
        "\t# standardize pixel values across channels (global)\n",
        "\tmean, std = face_pixels.mean(), face_pixels.std()\n",
        "\tface_pixels = (face_pixels - mean) / std\n",
        "\t# transform face into one sample\n",
        "\tsamples = np.expand_dims(face_pixels, axis=0)\n",
        "\t# make prediction to get embedding\n",
        "\tyhat = model.predict(samples)\n",
        "\treturn yhat[0]"
      ],
      "execution_count": null,
      "outputs": []
    },
    {
      "cell_type": "code",
      "metadata": {
        "colab": {
          "base_uri": "https://localhost:8080/"
        },
        "id": "3nPLsQ7jHGZw",
        "outputId": "25016bc1-cf3d-4055-c79d-d30e50acac01"
      },
      "source": [
        "data = np.load('5-celebrity-faces-dataset.npz')\n",
        "trainX, trainy, testX, testy = data['arr_0'], data['arr_1'], data['arr_2'], data['arr_3']\n",
        "print('Loaded: ', trainX.shape, trainy.shape, testX.shape, testy.shape)\n",
        "# load the facenet model\n",
        "model_emb = load_model('/content/keras-facenet/model/facenet_keras.h5')\n",
        "print('Loaded Model')\n",
        "# convert each face in the train set to an embedding\n",
        "newTrainX = list()\n",
        "for face_pixels in trainX:\n",
        "\tembedding = get_embedding(model_emb, face_pixels)\n",
        "\tnewTrainX.append(embedding)\n",
        "newTrainX = np.asarray(newTrainX)\n",
        "# convert each face in the test set to an embedding\n",
        "newTestX = list()\n",
        "for face_pixels in testX:\n",
        "\tembedding = get_embedding(model_emb, face_pixels)\n",
        "\tnewTestX.append(embedding)\n",
        "newTestX = np.asarray(newTestX)\n",
        "print(newTestX.shape)\n",
        "# save arrays to one file in compressed format\n",
        "np.savez_compressed('5-celebrity-faces-embeddings.npz', newTrainX, trainy, newTestX, testy)"
      ],
      "execution_count": null,
      "outputs": [
        {
          "output_type": "stream",
          "text": [
            "Loaded:  (190, 160, 160, 3) (190,) (55, 160, 160, 3) (55,)\n",
            "WARNING:tensorflow:No training configuration found in the save file, so the model was *not* compiled. Compile it manually.\n",
            "Loaded Model\n",
            "(55, 128)\n"
          ],
          "name": "stdout"
        }
      ]
    },
    {
      "cell_type": "code",
      "metadata": {
        "colab": {
          "base_uri": "https://localhost:8080/"
        },
        "id": "v2OlI-7wHawk",
        "outputId": "35c878f5-388f-41f6-c54c-d721fee278f7"
      },
      "source": [
        "data = np.load('5-celebrity-faces-embeddings.npz')\n",
        "trainX, trainy, testX, testy = data['arr_0'], data['arr_1'], data['arr_2'], data['arr_3']\n",
        "print('Dataset: train=%d, test=%d' % (trainX.shape[0], testX.shape[0]))"
      ],
      "execution_count": null,
      "outputs": [
        {
          "output_type": "stream",
          "text": [
            "Dataset: train=190, test=55\n"
          ],
          "name": "stdout"
        }
      ]
    },
    {
      "cell_type": "code",
      "metadata": {
        "id": "D8W6iCGdIKzE"
      },
      "source": [
        "from sklearn.metrics import accuracy_score\n",
        "from sklearn.preprocessing import LabelEncoder\n",
        "from sklearn.preprocessing import Normalizer\n",
        "from sklearn.svm import SVC"
      ],
      "execution_count": null,
      "outputs": []
    },
    {
      "cell_type": "code",
      "metadata": {
        "id": "yiwhHnMSIOYE"
      },
      "source": [
        "in_encoder = Normalizer(norm='l2')\n",
        "trainX = in_encoder.transform(trainX)\n",
        "testX = in_encoder.transform(testX)\n",
        "\n",
        "out_encoder = LabelEncoder()\n",
        "out_encoder.fit(trainy)\n",
        "trainy = out_encoder.transform(trainy)\n",
        "testy = out_encoder.transform(testy)"
      ],
      "execution_count": null,
      "outputs": []
    },
    {
      "cell_type": "code",
      "metadata": {
        "colab": {
          "base_uri": "https://localhost:8080/"
        },
        "id": "4YDjioypISyc",
        "outputId": "4fdecde5-cdd2-4beb-ab8b-dd2c99a52e1d"
      },
      "source": [
        "model = SVC(kernel='linear', probability = True)\n",
        "model.fit(trainX, trainy)"
      ],
      "execution_count": null,
      "outputs": [
        {
          "output_type": "execute_result",
          "data": {
            "text/plain": [
              "SVC(C=1.0, break_ties=False, cache_size=200, class_weight=None, coef0=0.0,\n",
              "    decision_function_shape='ovr', degree=3, gamma='scale', kernel='linear',\n",
              "    max_iter=-1, probability=True, random_state=None, shrinking=True, tol=0.001,\n",
              "    verbose=False)"
            ]
          },
          "metadata": {
            "tags": []
          },
          "execution_count": 59
        }
      ]
    },
    {
      "cell_type": "code",
      "metadata": {
        "colab": {
          "base_uri": "https://localhost:8080/"
        },
        "id": "rPbMCbeiIVxJ",
        "outputId": "ec9ebc58-9b1b-4c58-f44d-bf432bbe861a"
      },
      "source": [
        "yhat_train = model.predict(trainX)\n",
        "yhat_test = model.predict(testX)\n",
        "# score\n",
        "score_train = accuracy_score(trainy, yhat_train)\n",
        "score_test = accuracy_score(testy, yhat_test)\n",
        "# summarize\n",
        "print('Accuracy: train=%.3f, test=%.3f' % (score_train*100, score_test*100))flask-object-detection"
      ],
      "execution_count": null,
      "outputs": [
        {
          "output_type": "stream",
          "text": [
            "Accuracy: train=93.158, test=81.818\n"
          ],
          "name": "stdout"
        }
      ]
    },
    {
      "cell_type": "code",
      "metadata": {
        "colab": {
          "base_uri": "https://localhost:8080/",
          "height": 332
        },
        "id": "zb4Dk49n_bD8",
        "outputId": "06daf700-d50b-49f0-89d7-98b8be7edcd4"
      },
      "source": [
        "data = np.load('5-celebrity-faces-dataset.npz')\n",
        "testX_faces = data['arr_2']\n",
        "# test model on a random example from the test dataset\n",
        "selection = random.choice([i for i in range(testX.shape[0])])\n",
        "random_face_pixels = testX_faces[selection]\n",
        "random_face_emb = testX[selection]\n",
        "random_face_class = testy[selection]\n",
        "random_face_name = out_encoder.inverse_transform([random_face_class])\n",
        "# prediction for the face\n",
        "samples = np.expand_dims(random_face_emb, axis=0)\n",
        "\n",
        "start_time = time.time()\n",
        "yhat_class = model.predict(samples)\n",
        "yhat_prob = model.predict_proba(samples)\n",
        "end_time = time.time()\n",
        "elapsed_time = end_time - start_time\n",
        "print(f\"Elapsed time: {(elapsed_time)*1000} miliseconds\")\n",
        "# get name\n",
        "class_index = yhat_class[0]\n",
        "class_probability = yhat_prob[0,class_index] * 100\n",
        "predict_names = out_encoder.inverse_transform(yhat_class)\n",
        "print('Predicted: %s (%.3f)' % (predict_names[0], class_probability))\n",
        "print('Expected: %s' % random_face_name[0])\n",
        "# plot for fun\n",
        "plt.imshow(random_face_pixels)\n",
        "title = '%s (%.3f)' % (predict_names[0], class_probability)\n",
        "plt.title(title)\n",
        "plt.show()"
      ],
      "execution_count": null,
      "outputs": [
        {
          "output_type": "stream",
          "text": [
            "Elapsed time: 0.5848407745361328 miliseconds\n",
            "Predicted: jerry_seinfeld (82.107)\n",
            "Expected: jerry_seinfeld\n"
          ],
          "name": "stdout"
        },
        {
          "output_type": "display_data",
          "data": {
            "image/png": "[encoded data removed]",
            "text/plain": [
              "<Figure size 432x288 with 1 Axes>"
            ]
          },
          "metadata": {
            "tags": [],
            "needs_background": "light"
          }
        }
      ]
    },
    {
      "cell_type": "code",
      "metadata": {
        "id": "suIITBCbptAq"
      },
      "source": [
        "def show(frame):\n",
        "  # Running the infernce on the image specified in the  image path\n",
        "  # The input needs to be a tensor, convert it using `tf.convert_to_tensor`.\n",
        "  image_np = np.array(cv2.cvtColor(frame, cv2.COLOR_BGR2RGB))\n",
        "  (im_height, im_width, _) = frame.shape\n",
        "  input_tensor = tf.convert_to_tensor(image_np)\n",
        "  # The model expects a batch of images, so add an axis with `tf.newaxis`.\n",
        "  input_tensor = input_tensor[tf.newaxis, ...]\n",
        "  detections = detect_fn(input_tensor)\n",
        "  ymin, xmin, ymax, xmax = detections['detection_boxes'][0][0]\n",
        "  # All outputs are batches tensors.\n",
        "  # Convert to numpy arrays, and take index [0] to remove the batch dimension.\n",
        "  # We're only interested in the first num_detections.\n",
        "  num_detections = int(detections.pop('num_detections'))\n",
        "  detections = {key: value[0, :num_detections].numpy()\n",
        "                for key, value in detections.items()}\n",
        "  detections['num_detections'] = num_detections\n",
        "  # detection_classes should be ints.\n",
        "  detections['detection_classes'] = detections['detection_classes'].astype(np.int64)\n",
        "  #print(detections['detection_classes'])\n",
        "  image_np_with_detections = image_np.copy()\n",
        "  viz_utils.visualize_boxes_and_labels_on_image_array(\n",
        "        image_np_with_detections,\n",
        "        detections['detection_boxes'],\n",
        "        detections['detection_classes'],\n",
        "        detections['detection_scores'],\n",
        "        category_index,\n",
        "        use_normalized_coordinates=True,\n",
        "        max_boxes_to_draw=200,\n",
        "        min_score_thresh=MIN_CONF_THRESH,\n",
        "        agnostic_mode=False)\n",
        "  \n",
        "  x1, x2, y1, y2 = (xmin * im_width, xmax * im_width, ymin * im_height, ymax * im_height)\n",
        "  pixels = image_np\n",
        "  x1, y1 ,x2, y2= x1.numpy().astype(int), y1.numpy().astype(int), x2.numpy().astype(int), y2.numpy().astype(int)\n",
        "  face = pixels[y1:y2, x1:x2]\n",
        "  image = Image.fromarray(face)\n",
        "  image = image.resize((160, 160))\n",
        "  face_array = np.asarray(image)\n",
        "\n",
        "  return (image_np_with_detections, face_array, detections['detection_scores'])"
      ],
      "execution_count": null,
      "outputs": []
    },
    {
      "cell_type": "code",
      "metadata": {
        "id": "ffX3cWu5P0pS"
      },
      "source": [
        "cap = cv2.VideoCapture('/content/WIN_20210414_19_33_25_Pro.mp4')\n",
        "\n",
        "frame_width = int(cap.get(3))\n",
        "frame_height = int(cap.get(4))\n",
        "\n",
        "tt=0\n",
        "nf=0\n",
        "\n",
        "out = cv2.VideoWriter('output.avi', cv2.VideoWriter_fourcc('M', 'J', 'P', 'G'), 10, (frame_width, frame_height))\n",
        "\n",
        "while(cap.isOpened()):\n",
        "\n",
        "  # Capture frame-by-frame\n",
        "  ret, frame = cap.read()\n",
        "  if frame is None:\n",
        "    break\n",
        "\n",
        "  # start_time = time.time()\n",
        "  # Expand dimensions since the model expects images to have shape: [1, None, None, 3]\n",
        "  # image_np = np.array(cv2.cvtColor(frame, cv2.COLOR_BGR2RGB))\n",
        "  start_time = time.time()\n",
        "  output, face_pixels, score = show(frame)\n",
        "  if score[0] > 0.5:\n",
        "    sample = get_embedding(model_emb, face_pixels)\n",
        "    sample = np.expand_dims(sample, axis=0)\n",
        "    yhat_class = model.predict(sample)\n",
        "    yhat_prob = model.predict_proba(sample)\n",
        "    class_index = yhat_class[0]\n",
        "    class_probability = yhat_prob[0,class_index] * 100\n",
        "    predict_names = out_encoder.inverse_transform(yhat_class)\n",
        "    if class_probability > 50:\n",
        "      texted_image =cv2.putText(output, text=predict_names[0], org=(50,50),fontFace=3, fontScale=1, color=(0,0,255), thickness=2)\n",
        "    else:\n",
        "      texted_image =cv2.putText(output, text='unknown', org=(50,50),fontFace=3, fontScale=1, color=(0,0,255), thickness=2)\n",
        "  end_time = time.time()\n",
        "\n",
        "  # end_time = time.time()\n",
        "  elapsed_time = end_time - start_time\n",
        "  print('Done! Took {} miliseconds'.format(elapsed_time*1000))\n",
        "\n",
        "  plt.figure()\n",
        "  print(class_probability)\n",
        "\n",
        "  plt.imshow(output)\n",
        "  plt.show()\n",
        "  output = cv2.cvtColor(output, cv2.COLOR_RGB2BGR)\n",
        "  # Saves for video\n",
        "  out.write(output)\n",
        "\n",
        "cap.release()\n",
        "out.release()                 "
      ],
      "execution_count": null,
      "outputs": []
    },
    {
      "cell_type": "code",
      "metadata": {
        "id": "1hzn8r1CAIfp"
      },
      "source": [
        ""
      ],
      "execution_count": null,
      "outputs": []
    }
  ]
}